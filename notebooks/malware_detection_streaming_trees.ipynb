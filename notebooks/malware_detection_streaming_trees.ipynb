{
 "cells": [
  {
   "cell_type": "code",
   "execution_count": 6,
   "metadata": {},
   "outputs": [],
   "source": [
    "import base\n",
    "\n",
    "import warnings\n",
    "warnings.filterwarnings('ignore')\n",
    "\n",
    "import numpy as np\n",
    "import pandas as pd\n",
    "import copy\n",
    "import matplotlib.pyplot as plt\n",
    "from tqdm.notebook import tqdm, trange\n",
    "from joblib import Parallel, delayed\n",
    "import pickle\n",
    "\n",
    "from tslearn.preprocessing import TimeSeriesScalerMinMax, TimeSeriesScalerMeanVariance\n",
    "from sklearn.model_selection import train_test_split, GridSearchCV, TimeSeriesSplit, StratifiedKFold\n",
    "from sklearn.pipeline import Pipeline\n",
    "from sklearn.base import BaseEstimator, TransformerMixin\n",
    "from sklearn.metrics import accuracy_score, classification_report, plot_roc_curve, confusion_matrix, auc\n",
    "from sklearn.svm import SVC\n",
    "from sklearn.neighbors import KNeighborsClassifier\n",
    "\n",
    "from sigKer_fast import mmd_distance"
   ]
  },
  {
   "cell_type": "code",
   "execution_count": 134,
   "metadata": {},
   "outputs": [],
   "source": [
    "size = 16\n",
    "\n",
    "import matplotlib.pylab as pylab\n",
    "params = {'legend.fontsize': size,\n",
    "          'figure.figsize': (7, 5),\n",
    "          'axes.labelsize': size,\n",
    "          'axes.titlesize': size,\n",
    "          'xtick.labelsize':size,\n",
    "          'ytick.labelsize':size}\n",
    "pylab.rcParams.update(params)"
   ]
  },
  {
   "cell_type": "code",
   "execution_count": 343,
   "metadata": {},
   "outputs": [],
   "source": [
    "def mmd_distance_(t_i, t_j, sigma, scale):\n",
    "    return mmd_distance(scale*t_i, scale*t_j, n=1, solver=1, rbf=True, sigma=sigma)"
   ]
  },
  {
   "cell_type": "code",
   "execution_count": 344,
   "metadata": {},
   "outputs": [],
   "source": [
    "def create_mmd_distance_matrix(trees, sigma, scale):\n",
    "    N = len(trees)\n",
    "    K_full = np.zeros((N,N))\n",
    "    indices = np.triu_indices(N, k=0, m=N)\n",
    "    K_full[indices] = Parallel(n_jobs=-1,verbose=1)(\n",
    "        delayed(mmd_distance_)(trees[i], trees[j], sigma, scale)\n",
    "        for i in range(N)\n",
    "        for j in range(i,N)\n",
    "    )\n",
    "    indices = np.tril_indices(N, k=-1, m=N)\n",
    "    K_full[indices] = K_full.T[indices]\n",
    "    return K_full"
   ]
  },
  {
   "cell_type": "code",
   "execution_count": 345,
   "metadata": {},
   "outputs": [],
   "source": [
    "class TreeKernel(BaseEstimator, TransformerMixin):\n",
    "    def __init__(self, K_full=None, sigma=1.0):\n",
    "        super(TreeKernel, self).__init__()\n",
    "        self.K_full = K_full\n",
    "        self.sigma = sigma\n",
    "\n",
    "    def transform(self, ind):\n",
    "        return np.exp(-self.K_full[ind][:,self.ind_train]/self.sigma)\n",
    "\n",
    "    def fit(self, ind, y=None, **fit_params):\n",
    "        self.ind_train = ind\n",
    "        return self"
   ]
  },
  {
   "cell_type": "markdown",
   "metadata": {},
   "source": [
    "# Data loading"
   ]
  },
  {
   "cell_type": "code",
   "execution_count": 4,
   "metadata": {},
   "outputs": [],
   "source": [
    "# load data\n",
    "host = '201'\n",
    "X = pickle.load(open('./data/trees_{}.obj'.format(host), 'rb'))\n",
    "y = pickle.load(open('./data/labels_{}.obj'.format(host), 'rb'))\n",
    "y = np.array(y)"
   ]
  },
  {
   "cell_type": "markdown",
   "metadata": {},
   "source": [
    "# SK-Tree\n",
    "\n",
    "\n",
    "$$K(\\mathbb{T}_1,\\mathbb{T}_2)=\\exp{\\Big(-\\frac{D_k(\\mathbb{T}_1, \\mathbb{T}_2)}{\\sigma^2} \\Big)}, \\ \\ \\ \\sigma >0$$\n",
    "\n",
    "where $k$ is the signature kernel and where\n",
    "\n",
    "$$D_k(\\mathbb{T}_1, \\mathbb{T}_2) \\approx \\frac{1}{m(m-1)}\\sum_{i \\neq j=1}^{m,m}k(p_i, p_j) + \\frac{1}{n(n-1)}\\sum_{i \\neq j=1}^{n,n}k(q_i,q_j) - 2\\frac{1}{mn}\\sum_{i,j=1}^{m,n}k(p_i,q_j)$$\n",
    "\n",
    "\n",
    "and where $\\{p_i\\}_{i=1}^m$ are the branches of tree $\\mathbb{T}_1$ and $\\{q_j\\}_{j=1}^n$ are the branches of tree $\\mathbb{T}_2$."
   ]
  },
  {
   "cell_type": "code",
   "execution_count": 1,
   "metadata": {},
   "outputs": [],
   "source": [
    "# # populate mmd distance matrix\n",
    "# K_full = create_mmd_distance_matrix(X, sigma=1e-1, scale=1e-1)\n",
    "\n",
    "# # store mmd matrix\n",
    "# pickle.dump(K_full, open('./data/mmd_{}.obj'.format(host), 'wb'))\n",
    "\n",
    "# load mmd matrix\n",
    "K_full = pickle.load(open('./data/mmd_{}.obj'.format(host), 'rb'))"
   ]
  },
  {
   "cell_type": "code",
   "execution_count": 347,
   "metadata": {},
   "outputs": [],
   "source": [
    "# parameters for svm algo\n",
    "parameters_svc = {'tree__sigma': np.logspace(-3, 3, 7),\n",
    "                  'svc__kernel': ['precomputed'],\n",
    "                  'svc__gamma': np.logspace(-3, 3, 7), \n",
    "                  'svc__C': np.logspace(0, 4, 5),\n",
    "                  'svc__class_weight': [{1:3}]}\n",
    "\n",
    "# SVC estimator\n",
    "svc = SVC()\n",
    "pipeline_svc = Pipeline([('tree', TreeKernel(K_full=K_full)),\n",
    "                         ('svc', svc)])\n",
    "\n",
    "classifier = GridSearchCV(pipeline_svc, parameters_svc, verbose=1, n_jobs=-1, cv=5)"
   ]
  },
  {
   "cell_type": "markdown",
   "metadata": {},
   "source": [
    "# Experiments"
   ]
  },
  {
   "cell_type": "code",
   "execution_count": 348,
   "metadata": {},
   "outputs": [],
   "source": [
    "# train test split\n",
    "ind_train, ind_test, y_train, y_test = train_test_split(np.arange(len(y)), y, test_size=0.2, stratify=y, random_state=42)"
   ]
  },
  {
   "cell_type": "code",
   "execution_count": 349,
   "metadata": {},
   "outputs": [
    {
     "name": "stdout",
     "output_type": "stream",
     "text": [
      "Fitting 5 folds for each of 245 candidates, totalling 1225 fits\n"
     ]
    },
    {
     "name": "stderr",
     "output_type": "stream",
     "text": [
      "[Parallel(n_jobs=-1)]: Using backend LokyBackend with 64 concurrent workers.\n",
      "[Parallel(n_jobs=-1)]: Done  72 tasks      | elapsed:   19.9s\n",
      "[Parallel(n_jobs=-1)]: Done 322 tasks      | elapsed:   51.6s\n",
      "[Parallel(n_jobs=-1)]: Done 672 tasks      | elapsed:  1.5min\n",
      "[Parallel(n_jobs=-1)]: Done 1225 out of 1225 | elapsed:  2.6min finished\n"
     ]
    },
    {
     "data": {
      "text/plain": [
       "GridSearchCV(cv=5, error_score=nan,\n",
       "             estimator=Pipeline(memory=None,\n",
       "                                steps=[('tree',\n",
       "                                        TreeKernel(K_full=array([[ 0.        , 10.98595264, 14.00166994, ..., 11.06147714,\n",
       "         7.24232775,  6.75376465],\n",
       "       [10.98595264,  0.        , 19.30238508, ..., 15.42155402,\n",
       "        11.98938067, 10.86063248],\n",
       "       [14.00166994, 19.30238508,  0.        , ..., 15.77205456,\n",
       "         9.95989139, 12.77035977],\n",
       "       ...,\n",
       "       [11.06147714, 15.42155402, 15.77205456,...\n",
       "             param_grid={'svc__C': array([1.e+00, 1.e+01, 1.e+02, 1.e+03, 1.e+04]),\n",
       "                         'svc__class_weight': [{1: 3}],\n",
       "                         'svc__gamma': array([1.e-03, 1.e-02, 1.e-01, 1.e+00, 1.e+01, 1.e+02, 1.e+03]),\n",
       "                         'svc__kernel': ['precomputed'],\n",
       "                         'tree__sigma': array([1.e-03, 1.e-02, 1.e-01, 1.e+00, 1.e+01, 1.e+02, 1.e+03])},\n",
       "             pre_dispatch='2*n_jobs', refit=True, return_train_score=False,\n",
       "             scoring=None, verbose=1)"
      ]
     },
     "execution_count": 349,
     "metadata": {},
     "output_type": "execute_result"
    }
   ],
   "source": [
    "classifier.fit(ind_train, y_train)"
   ]
  },
  {
   "cell_type": "code",
   "execution_count": 350,
   "metadata": {},
   "outputs": [],
   "source": [
    "y_pred = classifier.predict(ind_test)"
   ]
  },
  {
   "cell_type": "code",
   "execution_count": 351,
   "metadata": {},
   "outputs": [
    {
     "name": "stdout",
     "output_type": "stream",
     "text": [
      "SK-Tree SVC classification report: \n",
      "               precision    recall  f1-score   support\n",
      "\n",
      "           0       0.98      1.00      0.99       760\n",
      "           1       0.98      0.80      0.88        64\n",
      "\n",
      "    accuracy                           0.98       824\n",
      "   macro avg       0.98      0.90      0.94       824\n",
      "weighted avg       0.98      0.98      0.98       824\n",
      "\n",
      "SK-Tree SVC confusion matrix: \n",
      " [[759   1]\n",
      " [ 13  51]]\n"
     ]
    }
   ],
   "source": [
    "print('SK-Tree SVC classification report: \\n', classification_report(y_test, y_pred))\n",
    "print('SK-Tree SVC confusion matrix: \\n', confusion_matrix(y_test, y_pred))"
   ]
  },
  {
   "cell_type": "markdown",
   "metadata": {},
   "source": [
    "# ROC curve plot"
   ]
  },
  {
   "cell_type": "code",
   "execution_count": 353,
   "metadata": {},
   "outputs": [],
   "source": [
    "# load mmd matrix\n",
    "K_full = pickle.load(open('./data/mmd_201.obj', 'rb'))\n",
    "\n",
    "# parameters for svm algo\n",
    "parameters_svc = {'tree__sigma': np.logspace(-3, 3, 7),\n",
    "                  'svc__kernel': ['precomputed'],\n",
    "                  'svc__gamma': np.logspace(-3, 3, 7), \n",
    "                  'svc__C': np.logspace(0, 4, 5),\n",
    "                  'svc__class_weight': [{1:3}]}\n",
    "\n",
    "# SVC estimator\n",
    "svc = SVC()\n",
    "pipeline_svc = Pipeline([('tree', TreeKernel(K_full=K_full)),\n",
    "                         ('svc', svc)])\n",
    "\n",
    "classifier = GridSearchCV(pipeline_svc, parameters_svc, verbose=1, n_jobs=-1, cv=5)"
   ]
  },
  {
   "cell_type": "code",
   "execution_count": 354,
   "metadata": {},
   "outputs": [
    {
     "name": "stdout",
     "output_type": "stream",
     "text": [
      "Fitting 5 folds for each of 245 candidates, totalling 1225 fits\n"
     ]
    },
    {
     "name": "stderr",
     "output_type": "stream",
     "text": [
      "[Parallel(n_jobs=-1)]: Using backend LokyBackend with 64 concurrent workers.\n",
      "[Parallel(n_jobs=-1)]: Done  72 tasks      | elapsed:   19.8s\n",
      "[Parallel(n_jobs=-1)]: Done 322 tasks      | elapsed:   51.5s\n",
      "[Parallel(n_jobs=-1)]: Done 672 tasks      | elapsed:  1.5min\n",
      "[Parallel(n_jobs=-1)]: Done 1225 out of 1225 | elapsed:  2.6min finished\n"
     ]
    },
    {
     "name": "stdout",
     "output_type": "stream",
     "text": [
      "Fitting 5 folds for each of 245 candidates, totalling 1225 fits\n"
     ]
    },
    {
     "name": "stderr",
     "output_type": "stream",
     "text": [
      "[Parallel(n_jobs=-1)]: Using backend LokyBackend with 64 concurrent workers.\n",
      "[Parallel(n_jobs=-1)]: Done  72 tasks      | elapsed:   19.8s\n",
      "[Parallel(n_jobs=-1)]: Done 322 tasks      | elapsed:   51.5s\n",
      "[Parallel(n_jobs=-1)]: Done 672 tasks      | elapsed:  1.5min\n",
      "[Parallel(n_jobs=-1)]: Done 1225 out of 1225 | elapsed:  2.6min finished\n"
     ]
    },
    {
     "name": "stdout",
     "output_type": "stream",
     "text": [
      "Fitting 5 folds for each of 245 candidates, totalling 1225 fits\n"
     ]
    },
    {
     "name": "stderr",
     "output_type": "stream",
     "text": [
      "[Parallel(n_jobs=-1)]: Using backend LokyBackend with 64 concurrent workers.\n",
      "[Parallel(n_jobs=-1)]: Done  72 tasks      | elapsed:   19.8s\n",
      "[Parallel(n_jobs=-1)]: Done 322 tasks      | elapsed:   50.7s\n",
      "[Parallel(n_jobs=-1)]: Done 672 tasks      | elapsed:  1.5min\n",
      "[Parallel(n_jobs=-1)]: Done 1225 out of 1225 | elapsed:  2.6min finished\n"
     ]
    },
    {
     "name": "stdout",
     "output_type": "stream",
     "text": [
      "Fitting 5 folds for each of 245 candidates, totalling 1225 fits\n"
     ]
    },
    {
     "name": "stderr",
     "output_type": "stream",
     "text": [
      "[Parallel(n_jobs=-1)]: Using backend LokyBackend with 64 concurrent workers.\n",
      "[Parallel(n_jobs=-1)]: Done  72 tasks      | elapsed:   19.7s\n",
      "[Parallel(n_jobs=-1)]: Done 322 tasks      | elapsed:   51.1s\n",
      "[Parallel(n_jobs=-1)]: Done 672 tasks      | elapsed:  1.5min\n",
      "[Parallel(n_jobs=-1)]: Done 1225 out of 1225 | elapsed:  2.6min finished\n"
     ]
    },
    {
     "name": "stdout",
     "output_type": "stream",
     "text": [
      "Fitting 5 folds for each of 245 candidates, totalling 1225 fits\n"
     ]
    },
    {
     "name": "stderr",
     "output_type": "stream",
     "text": [
      "[Parallel(n_jobs=-1)]: Using backend LokyBackend with 64 concurrent workers.\n",
      "[Parallel(n_jobs=-1)]: Done  73 tasks      | elapsed:   19.3s\n",
      "[Parallel(n_jobs=-1)]: Done 323 tasks      | elapsed:   52.1s\n",
      "[Parallel(n_jobs=-1)]: Done 673 tasks      | elapsed:  1.5min\n",
      "[Parallel(n_jobs=-1)]: Done 1225 out of 1225 | elapsed:  2.7min finished\n"
     ]
    },
    {
     "data": {
      "image/png": "[encoded data removed]",
      "text/plain": [
       "<Figure size 576x576 with 1 Axes>"
      ]
     },
     "metadata": {
      "needs_background": "light"
     },
     "output_type": "display_data"
    }
   ],
   "source": [
    "# Run classifier with cross-validation and plot ROC curves\n",
    "cv = StratifiedKFold(n_splits=6)\n",
    "\n",
    "XX = np.arange(len(y))\n",
    "yy = np.array(y)\n",
    "\n",
    "tprs = []\n",
    "aucs = []\n",
    "mean_fpr = np.linspace(0, 1, 100)\n",
    "\n",
    "fig, ax = plt.subplots(figsize=(8,8))\n",
    "\n",
    "for i, (train, test) in enumerate(cv.split(XX, yy)):\n",
    "    \n",
    "    if i<5:\n",
    "    \n",
    "        classifier.fit(XX[train], yy[train])\n",
    "\n",
    "        viz = plot_roc_curve(classifier, XX[test], yy[test],\n",
    "                             name='ROC fold {}'.format(i),\n",
    "                             alpha=0.6, lw=1, ax=ax)\n",
    "\n",
    "        interp_tpr = np.interp(mean_fpr, viz.fpr, viz.tpr)\n",
    "        interp_tpr[0] = 0.0\n",
    "        tprs.append(interp_tpr)\n",
    "        aucs.append(viz.roc_auc)\n",
    "\n",
    "ax.plot([0, 1], [0, 1], linestyle='--', lw=2, color='r',\n",
    "        label='Chance', alpha=.8)\n",
    "\n",
    "mean_tpr = np.mean(tprs, axis=0)\n",
    "mean_tpr[-1] = 1.0\n",
    "mean_auc = auc(mean_fpr, mean_tpr)\n",
    "std_auc = np.std(aucs)\n",
    "ax.plot(mean_fpr, mean_tpr, color='b',\n",
    "        label=r'Mean ROC (AUC = %0.2f $\\pm$ %0.2f)' % (mean_auc, std_auc),\n",
    "        lw=2, alpha=.8)\n",
    "\n",
    "std_tpr = np.std(tprs, axis=0)\n",
    "tprs_upper = np.minimum(mean_tpr + std_tpr, 1)\n",
    "tprs_lower = np.maximum(mean_tpr - std_tpr, 0)\n",
    "ax.fill_between(mean_fpr, tprs_lower, tprs_upper, color='grey', alpha=.2,\n",
    "                label=r'$\\pm$ 1 std. dev.')\n",
    "\n",
    "ax.set(xlim=[-0.05, 1.05], ylim=[-0.05, 1.05],\n",
    "       title=\"SK-Tree malware detection ROC\")\n",
    "ax.legend(loc=\"lower right\")\n",
    "plt.savefig('./pictures/ROC.pdf')\n",
    "plt.show()"
   ]
  },
  {
   "cell_type": "code",
   "execution_count": null,
   "metadata": {},
   "outputs": [],
   "source": []
  }
 ],
 "metadata": {
  "kernel_info": {
   "name": "python3-azureml"
  },
  "kernelspec": {
   "display_name": "Python 3",
   "language": "python",
   "name": "python3"
  },
  "language_info": {
   "codemirror_mode": {
    "name": "ipython",
    "version": 3
   },
   "file_extension": ".py",
   "mimetype": "text/x-python",
   "name": "python",
   "nbconvert_exporter": "python",
   "pygments_lexer": "ipython3",
   "version": "3.8.3"
  },
  "nteract": {
   "version": "nteract-front-end@1.0.0"
  }
 },
 "nbformat": 4,
 "nbformat_minor": 4
}
