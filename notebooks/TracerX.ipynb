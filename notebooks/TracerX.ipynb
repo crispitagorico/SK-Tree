{
 "cells": [
  {
   "cell_type": "code",
   "execution_count": 628,
   "metadata": {},
   "outputs": [],
   "source": [
    "import base\n",
    "\n",
    "import warnings\n",
    "warnings.filterwarnings('ignore')\n",
    "\n",
    "import numpy as np\n",
    "import pandas as pd\n",
    "import copy\n",
    "import matplotlib.pyplot as plt\n",
    "from tqdm.notebook import tqdm, trange\n",
    "from joblib import Parallel, delayed\n",
    "\n",
    "from tslearn.preprocessing import TimeSeriesScalerMinMax, TimeSeriesScalerMeanVariance\n",
    "from sklearn.model_selection import train_test_split, GridSearchCV, TimeSeriesSplit\n",
    "from sklearn.pipeline import Pipeline\n",
    "from sklearn.base import BaseEstimator, TransformerMixin\n",
    "from sklearn.metrics import accuracy_score, classification_report, confusion_matrix\n",
    "from sklearn.neighbors import KNeighborsClassifier\n",
    "from tslearn.clustering import TimeSeriesKMeans\n",
    "\n",
    "from sklearn.svm import SVC\n",
    "\n",
    "from transformers_sig import AddTime, LeadLag\n",
    "from sigKer_fast import mmd_distance"
   ]
  },
  {
   "cell_type": "markdown",
   "metadata": {},
   "source": [
    "### Load the data"
   ]
  },
  {
   "cell_type": "code",
   "execution_count": 83,
   "metadata": {},
   "outputs": [],
   "source": [
    "import os\n",
    "path = '../data/TracerX/'\n",
    "files = []\n",
    "outcome_df = pd.read_json('../data/TracerX/outcome.fullCohort.json')\n",
    "y = []\n",
    "for i in os.listdir(path):\n",
    "    if os.path.isfile(os.path.join(path,i)) and 'CRUK' in i:\n",
    "        patient_id = i[:8]\n",
    "        files.append(path + i)\n",
    "        y.append(outcome_df[outcome_df.ID == patient_id].outcome.values[0])"
   ]
  },
  {
   "cell_type": "code",
   "execution_count": 66,
   "metadata": {},
   "outputs": [
    {
     "data": {
      "application/vnd.jupyter.widget-view+json": {
       "model_id": "39c4859c8bba4d9ca3c6e9eadf27b057",
       "version_major": 2,
       "version_minor": 0
      },
      "text/plain": [
       "HBox(children=(FloatProgress(value=0.0, max=91.0), HTML(value='')))"
      ]
     },
     "metadata": {},
     "output_type": "display_data"
    },
    {
     "name": "stdout",
     "output_type": "stream",
     "text": [
      "\n"
     ]
    }
   ],
   "source": [
    "dataframes = []\n",
    "for file in tqdm(files):\n",
    "    dataframes.append(pd.read_json(file).T)"
   ]
  },
  {
   "cell_type": "code",
   "execution_count": 74,
   "metadata": {},
   "outputs": [
    {
     "data": {
      "application/vnd.jupyter.widget-view+json": {
       "model_id": "da11309b61304f20afefa6caf422d995",
       "version_major": 2,
       "version_minor": 0
      },
      "text/plain": [
       "HBox(children=(FloatProgress(value=0.0, max=91.0), HTML(value='')))"
      ]
     },
     "metadata": {},
     "output_type": "display_data"
    },
    {
     "name": "stdout",
     "output_type": "stream",
     "text": [
      "\n"
     ]
    }
   ],
   "source": [
    "X_ = []\n",
    "for df in tqdm(dataframes):\n",
    "    X_.append([np.array([list(d.values()) for d in df.iloc[:,k].values]).T for k in range(len(df.columns))])"
   ]
  },
  {
   "cell_type": "markdown",
   "metadata": {},
   "source": [
    "### Form trees and reduce number of genes by clustering "
   ]
  },
  {
   "cell_type": "code",
   "execution_count": 596,
   "metadata": {},
   "outputs": [
    {
     "data": {
      "application/vnd.jupyter.widget-view+json": {
       "model_id": "4731dd3f394b4e2884b2612efb39555f",
       "version_major": 2,
       "version_minor": 0
      },
      "text/plain": [
       "HBox(children=(FloatProgress(value=0.0, description='trees loop', max=91.0, style=ProgressStyle(description_wi…"
      ]
     },
     "metadata": {},
     "output_type": "display_data"
    },
    {
     "data": {
      "application/vnd.jupyter.widget-view+json": {
       "model_id": "",
       "version_major": 2,
       "version_minor": 0
      },
      "text/plain": [
       "HBox(children=(FloatProgress(value=0.0, description='branches loop', max=3.0, style=ProgressStyle(description_…"
      ]
     },
     "metadata": {},
     "output_type": "display_data"
    },
    {
     "data": {
      "application/vnd.jupyter.widget-view+json": {
       "model_id": "",
       "version_major": 2,
       "version_minor": 0
      },
      "text/plain": [
       "HBox(children=(FloatProgress(value=0.0, description='branches loop', max=3.0, style=ProgressStyle(description_…"
      ]
     },
     "metadata": {},
     "output_type": "display_data"
    },
    {
     "data": {
      "application/vnd.jupyter.widget-view+json": {
       "model_id": "",
       "version_major": 2,
       "version_minor": 0
      },
      "text/plain": [
       "HBox(children=(FloatProgress(value=0.0, description='branches loop', max=5.0, style=ProgressStyle(description_…"
      ]
     },
     "metadata": {},
     "output_type": "display_data"
    },
    {
     "data": {
      "application/vnd.jupyter.widget-view+json": {
       "model_id": "",
       "version_major": 2,
       "version_minor": 0
      },
      "text/plain": [
       "HBox(children=(FloatProgress(value=0.0, description='branches loop', max=4.0, style=ProgressStyle(description_…"
      ]
     },
     "metadata": {},
     "output_type": "display_data"
    },
    {
     "data": {
      "application/vnd.jupyter.widget-view+json": {
       "model_id": "",
       "version_major": 2,
       "version_minor": 0
      },
      "text/plain": [
       "HBox(children=(FloatProgress(value=0.0, description='branches loop', max=4.0, style=ProgressStyle(description_…"
      ]
     },
     "metadata": {},
     "output_type": "display_data"
    },
    {
     "data": {
      "application/vnd.jupyter.widget-view+json": {
       "model_id": "",
       "version_major": 2,
       "version_minor": 0
      },
      "text/plain": [
       "HBox(children=(FloatProgress(value=0.0, description='branches loop', max=2.0, style=ProgressStyle(description_…"
      ]
     },
     "metadata": {},
     "output_type": "display_data"
    },
    {
     "data": {
      "application/vnd.jupyter.widget-view+json": {
       "model_id": "",
       "version_major": 2,
       "version_minor": 0
      },
      "text/plain": [
       "HBox(children=(FloatProgress(value=0.0, description='branches loop', max=2.0, style=ProgressStyle(description_…"
      ]
     },
     "metadata": {},
     "output_type": "display_data"
    },
    {
     "data": {
      "application/vnd.jupyter.widget-view+json": {
       "model_id": "",
       "version_major": 2,
       "version_minor": 0
      },
      "text/plain": [
       "HBox(children=(FloatProgress(value=0.0, description='branches loop', max=2.0, style=ProgressStyle(description_…"
      ]
     },
     "metadata": {},
     "output_type": "display_data"
    },
    {
     "data": {
      "application/vnd.jupyter.widget-view+json": {
       "model_id": "",
       "version_major": 2,
       "version_minor": 0
      },
      "text/plain": [
       "HBox(children=(FloatProgress(value=0.0, description='branches loop', max=3.0, style=ProgressStyle(description_…"
      ]
     },
     "metadata": {},
     "output_type": "display_data"
    },
    {
     "data": {
      "application/vnd.jupyter.widget-view+json": {
       "model_id": "",
       "version_major": 2,
       "version_minor": 0
      },
      "text/plain": [
       "HBox(children=(FloatProgress(value=0.0, description='branches loop', max=2.0, style=ProgressStyle(description_…"
      ]
     },
     "metadata": {},
     "output_type": "display_data"
    },
    {
     "data": {
      "application/vnd.jupyter.widget-view+json": {
       "model_id": "",
       "version_major": 2,
       "version_minor": 0
      },
      "text/plain": [
       "HBox(children=(FloatProgress(value=0.0, description='branches loop', max=3.0, style=ProgressStyle(description_…"
      ]
     },
     "metadata": {},
     "output_type": "display_data"
    },
    {
     "data": {
      "application/vnd.jupyter.widget-view+json": {
       "model_id": "",
       "version_major": 2,
       "version_minor": 0
      },
      "text/plain": [
       "HBox(children=(FloatProgress(value=0.0, description='branches loop', max=2.0, style=ProgressStyle(description_…"
      ]
     },
     "metadata": {},
     "output_type": "display_data"
    },
    {
     "data": {
      "application/vnd.jupyter.widget-view+json": {
       "model_id": "",
       "version_major": 2,
       "version_minor": 0
      },
      "text/plain": [
       "HBox(children=(FloatProgress(value=0.0, description='branches loop', max=5.0, style=ProgressStyle(description_…"
      ]
     },
     "metadata": {},
     "output_type": "display_data"
    },
    {
     "data": {
      "application/vnd.jupyter.widget-view+json": {
       "model_id": "",
       "version_major": 2,
       "version_minor": 0
      },
      "text/plain": [
       "HBox(children=(FloatProgress(value=0.0, description='branches loop', max=2.0, style=ProgressStyle(description_…"
      ]
     },
     "metadata": {},
     "output_type": "display_data"
    },
    {
     "data": {
      "application/vnd.jupyter.widget-view+json": {
       "model_id": "",
       "version_major": 2,
       "version_minor": 0
      },
      "text/plain": [
       "HBox(children=(FloatProgress(value=0.0, description='branches loop', max=2.0, style=ProgressStyle(description_…"
      ]
     },
     "metadata": {},
     "output_type": "display_data"
    },
    {
     "data": {
      "application/vnd.jupyter.widget-view+json": {
       "model_id": "",
       "version_major": 2,
       "version_minor": 0
      },
      "text/plain": [
       "HBox(children=(FloatProgress(value=0.0, description='branches loop', max=3.0, style=ProgressStyle(description_…"
      ]
     },
     "metadata": {},
     "output_type": "display_data"
    },
    {
     "data": {
      "application/vnd.jupyter.widget-view+json": {
       "model_id": "",
       "version_major": 2,
       "version_minor": 0
      },
      "text/plain": [
       "HBox(children=(FloatProgress(value=0.0, description='branches loop', max=3.0, style=ProgressStyle(description_…"
      ]
     },
     "metadata": {},
     "output_type": "display_data"
    },
    {
     "data": {
      "application/vnd.jupyter.widget-view+json": {
       "model_id": "",
       "version_major": 2,
       "version_minor": 0
      },
      "text/plain": [
       "HBox(children=(FloatProgress(value=0.0, description='branches loop', max=4.0, style=ProgressStyle(description_…"
      ]
     },
     "metadata": {},
     "output_type": "display_data"
    },
    {
     "data": {
      "application/vnd.jupyter.widget-view+json": {
       "model_id": "",
       "version_major": 2,
       "version_minor": 0
      },
      "text/plain": [
       "HBox(children=(FloatProgress(value=0.0, description='branches loop', max=2.0, style=ProgressStyle(description_…"
      ]
     },
     "metadata": {},
     "output_type": "display_data"
    },
    {
     "data": {
      "application/vnd.jupyter.widget-view+json": {
       "model_id": "",
       "version_major": 2,
       "version_minor": 0
      },
      "text/plain": [
       "HBox(children=(FloatProgress(value=0.0, description='branches loop', max=2.0, style=ProgressStyle(description_…"
      ]
     },
     "metadata": {},
     "output_type": "display_data"
    },
    {
     "data": {
      "application/vnd.jupyter.widget-view+json": {
       "model_id": "",
       "version_major": 2,
       "version_minor": 0
      },
      "text/plain": [
       "HBox(children=(FloatProgress(value=0.0, description='branches loop', max=2.0, style=ProgressStyle(description_…"
      ]
     },
     "metadata": {},
     "output_type": "display_data"
    },
    {
     "data": {
      "application/vnd.jupyter.widget-view+json": {
       "model_id": "",
       "version_major": 2,
       "version_minor": 0
      },
      "text/plain": [
       "HBox(children=(FloatProgress(value=0.0, description='branches loop', max=2.0, style=ProgressStyle(description_…"
      ]
     },
     "metadata": {},
     "output_type": "display_data"
    },
    {
     "data": {
      "application/vnd.jupyter.widget-view+json": {
       "model_id": "",
       "version_major": 2,
       "version_minor": 0
      },
      "text/plain": [
       "HBox(children=(FloatProgress(value=0.0, description='branches loop', max=4.0, style=ProgressStyle(description_…"
      ]
     },
     "metadata": {},
     "output_type": "display_data"
    },
    {
     "data": {
      "application/vnd.jupyter.widget-view+json": {
       "model_id": "",
       "version_major": 2,
       "version_minor": 0
      },
      "text/plain": [
       "HBox(children=(FloatProgress(value=0.0, description='branches loop', max=4.0, style=ProgressStyle(description_…"
      ]
     },
     "metadata": {},
     "output_type": "display_data"
    },
    {
     "data": {
      "application/vnd.jupyter.widget-view+json": {
       "model_id": "",
       "version_major": 2,
       "version_minor": 0
      },
      "text/plain": [
       "HBox(children=(FloatProgress(value=0.0, description='branches loop', max=3.0, style=ProgressStyle(description_…"
      ]
     },
     "metadata": {},
     "output_type": "display_data"
    },
    {
     "data": {
      "application/vnd.jupyter.widget-view+json": {
       "model_id": "",
       "version_major": 2,
       "version_minor": 0
      },
      "text/plain": [
       "HBox(children=(FloatProgress(value=0.0, description='branches loop', max=2.0, style=ProgressStyle(description_…"
      ]
     },
     "metadata": {},
     "output_type": "display_data"
    },
    {
     "data": {
      "application/vnd.jupyter.widget-view+json": {
       "model_id": "",
       "version_major": 2,
       "version_minor": 0
      },
      "text/plain": [
       "HBox(children=(FloatProgress(value=0.0, description='branches loop', max=2.0, style=ProgressStyle(description_…"
      ]
     },
     "metadata": {},
     "output_type": "display_data"
    },
    {
     "data": {
      "application/vnd.jupyter.widget-view+json": {
       "model_id": "",
       "version_major": 2,
       "version_minor": 0
      },
      "text/plain": [
       "HBox(children=(FloatProgress(value=0.0, description='branches loop', max=2.0, style=ProgressStyle(description_…"
      ]
     },
     "metadata": {},
     "output_type": "display_data"
    },
    {
     "data": {
      "application/vnd.jupyter.widget-view+json": {
       "model_id": "",
       "version_major": 2,
       "version_minor": 0
      },
      "text/plain": [
       "HBox(children=(FloatProgress(value=0.0, description='branches loop', max=5.0, style=ProgressStyle(description_…"
      ]
     },
     "metadata": {},
     "output_type": "display_data"
    },
    {
     "data": {
      "application/vnd.jupyter.widget-view+json": {
       "model_id": "",
       "version_major": 2,
       "version_minor": 0
      },
      "text/plain": [
       "HBox(children=(FloatProgress(value=0.0, description='branches loop', max=2.0, style=ProgressStyle(description_…"
      ]
     },
     "metadata": {},
     "output_type": "display_data"
    },
    {
     "data": {
      "application/vnd.jupyter.widget-view+json": {
       "model_id": "",
       "version_major": 2,
       "version_minor": 0
      },
      "text/plain": [
       "HBox(children=(FloatProgress(value=0.0, description='branches loop', max=3.0, style=ProgressStyle(description_…"
      ]
     },
     "metadata": {},
     "output_type": "display_data"
    },
    {
     "data": {
      "application/vnd.jupyter.widget-view+json": {
       "model_id": "",
       "version_major": 2,
       "version_minor": 0
      },
      "text/plain": [
       "HBox(children=(FloatProgress(value=0.0, description='branches loop', max=5.0, style=ProgressStyle(description_…"
      ]
     },
     "metadata": {},
     "output_type": "display_data"
    },
    {
     "data": {
      "application/vnd.jupyter.widget-view+json": {
       "model_id": "",
       "version_major": 2,
       "version_minor": 0
      },
      "text/plain": [
       "HBox(children=(FloatProgress(value=0.0, description='branches loop', max=1.0, style=ProgressStyle(description_…"
      ]
     },
     "metadata": {},
     "output_type": "display_data"
    },
    {
     "data": {
      "application/vnd.jupyter.widget-view+json": {
       "model_id": "",
       "version_major": 2,
       "version_minor": 0
      },
      "text/plain": [
       "HBox(children=(FloatProgress(value=0.0, description='branches loop', max=3.0, style=ProgressStyle(description_…"
      ]
     },
     "metadata": {},
     "output_type": "display_data"
    },
    {
     "data": {
      "application/vnd.jupyter.widget-view+json": {
       "model_id": "",
       "version_major": 2,
       "version_minor": 0
      },
      "text/plain": [
       "HBox(children=(FloatProgress(value=0.0, description='branches loop', max=3.0, style=ProgressStyle(description_…"
      ]
     },
     "metadata": {},
     "output_type": "display_data"
    },
    {
     "data": {
      "application/vnd.jupyter.widget-view+json": {
       "model_id": "",
       "version_major": 2,
       "version_minor": 0
      },
      "text/plain": [
       "HBox(children=(FloatProgress(value=0.0, description='branches loop', max=4.0, style=ProgressStyle(description_…"
      ]
     },
     "metadata": {},
     "output_type": "display_data"
    },
    {
     "data": {
      "application/vnd.jupyter.widget-view+json": {
       "model_id": "",
       "version_major": 2,
       "version_minor": 0
      },
      "text/plain": [
       "HBox(children=(FloatProgress(value=0.0, description='branches loop', max=5.0, style=ProgressStyle(description_…"
      ]
     },
     "metadata": {},
     "output_type": "display_data"
    },
    {
     "data": {
      "application/vnd.jupyter.widget-view+json": {
       "model_id": "",
       "version_major": 2,
       "version_minor": 0
      },
      "text/plain": [
       "HBox(children=(FloatProgress(value=0.0, description='branches loop', max=2.0, style=ProgressStyle(description_…"
      ]
     },
     "metadata": {},
     "output_type": "display_data"
    },
    {
     "data": {
      "application/vnd.jupyter.widget-view+json": {
       "model_id": "",
       "version_major": 2,
       "version_minor": 0
      },
      "text/plain": [
       "HBox(children=(FloatProgress(value=0.0, description='branches loop', max=3.0, style=ProgressStyle(description_…"
      ]
     },
     "metadata": {},
     "output_type": "display_data"
    },
    {
     "data": {
      "application/vnd.jupyter.widget-view+json": {
       "model_id": "",
       "version_major": 2,
       "version_minor": 0
      },
      "text/plain": [
       "HBox(children=(FloatProgress(value=0.0, description='branches loop', max=1.0, style=ProgressStyle(description_…"
      ]
     },
     "metadata": {},
     "output_type": "display_data"
    },
    {
     "data": {
      "application/vnd.jupyter.widget-view+json": {
       "model_id": "",
       "version_major": 2,
       "version_minor": 0
      },
      "text/plain": [
       "HBox(children=(FloatProgress(value=0.0, description='branches loop', max=2.0, style=ProgressStyle(description_…"
      ]
     },
     "metadata": {},
     "output_type": "display_data"
    },
    {
     "data": {
      "application/vnd.jupyter.widget-view+json": {
       "model_id": "",
       "version_major": 2,
       "version_minor": 0
      },
      "text/plain": [
       "HBox(children=(FloatProgress(value=0.0, description='branches loop', max=1.0, style=ProgressStyle(description_…"
      ]
     },
     "metadata": {},
     "output_type": "display_data"
    },
    {
     "data": {
      "application/vnd.jupyter.widget-view+json": {
       "model_id": "",
       "version_major": 2,
       "version_minor": 0
      },
      "text/plain": [
       "HBox(children=(FloatProgress(value=0.0, description='branches loop', max=2.0, style=ProgressStyle(description_…"
      ]
     },
     "metadata": {},
     "output_type": "display_data"
    },
    {
     "data": {
      "application/vnd.jupyter.widget-view+json": {
       "model_id": "",
       "version_major": 2,
       "version_minor": 0
      },
      "text/plain": [
       "HBox(children=(FloatProgress(value=0.0, description='branches loop', max=2.0, style=ProgressStyle(description_…"
      ]
     },
     "metadata": {},
     "output_type": "display_data"
    },
    {
     "data": {
      "application/vnd.jupyter.widget-view+json": {
       "model_id": "",
       "version_major": 2,
       "version_minor": 0
      },
      "text/plain": [
       "HBox(children=(FloatProgress(value=0.0, description='branches loop', max=4.0, style=ProgressStyle(description_…"
      ]
     },
     "metadata": {},
     "output_type": "display_data"
    },
    {
     "data": {
      "application/vnd.jupyter.widget-view+json": {
       "model_id": "",
       "version_major": 2,
       "version_minor": 0
      },
      "text/plain": [
       "HBox(children=(FloatProgress(value=0.0, description='branches loop', max=2.0, style=ProgressStyle(description_…"
      ]
     },
     "metadata": {},
     "output_type": "display_data"
    },
    {
     "data": {
      "application/vnd.jupyter.widget-view+json": {
       "model_id": "",
       "version_major": 2,
       "version_minor": 0
      },
      "text/plain": [
       "HBox(children=(FloatProgress(value=0.0, description='branches loop', max=2.0, style=ProgressStyle(description_…"
      ]
     },
     "metadata": {},
     "output_type": "display_data"
    },
    {
     "data": {
      "application/vnd.jupyter.widget-view+json": {
       "model_id": "",
       "version_major": 2,
       "version_minor": 0
      },
      "text/plain": [
       "HBox(children=(FloatProgress(value=0.0, description='branches loop', max=3.0, style=ProgressStyle(description_…"
      ]
     },
     "metadata": {},
     "output_type": "display_data"
    },
    {
     "data": {
      "application/vnd.jupyter.widget-view+json": {
       "model_id": "",
       "version_major": 2,
       "version_minor": 0
      },
      "text/plain": [
       "HBox(children=(FloatProgress(value=0.0, description='branches loop', max=2.0, style=ProgressStyle(description_…"
      ]
     },
     "metadata": {},
     "output_type": "display_data"
    },
    {
     "data": {
      "application/vnd.jupyter.widget-view+json": {
       "model_id": "",
       "version_major": 2,
       "version_minor": 0
      },
      "text/plain": [
       "HBox(children=(FloatProgress(value=0.0, description='branches loop', max=3.0, style=ProgressStyle(description_…"
      ]
     },
     "metadata": {},
     "output_type": "display_data"
    },
    {
     "data": {
      "application/vnd.jupyter.widget-view+json": {
       "model_id": "",
       "version_major": 2,
       "version_minor": 0
      },
      "text/plain": [
       "HBox(children=(FloatProgress(value=0.0, description='branches loop', max=3.0, style=ProgressStyle(description_…"
      ]
     },
     "metadata": {},
     "output_type": "display_data"
    },
    {
     "data": {
      "application/vnd.jupyter.widget-view+json": {
       "model_id": "",
       "version_major": 2,
       "version_minor": 0
      },
      "text/plain": [
       "HBox(children=(FloatProgress(value=0.0, description='branches loop', max=2.0, style=ProgressStyle(description_…"
      ]
     },
     "metadata": {},
     "output_type": "display_data"
    },
    {
     "data": {
      "application/vnd.jupyter.widget-view+json": {
       "model_id": "",
       "version_major": 2,
       "version_minor": 0
      },
      "text/plain": [
       "HBox(children=(FloatProgress(value=0.0, description='branches loop', max=1.0, style=ProgressStyle(description_…"
      ]
     },
     "metadata": {},
     "output_type": "display_data"
    },
    {
     "data": {
      "application/vnd.jupyter.widget-view+json": {
       "model_id": "",
       "version_major": 2,
       "version_minor": 0
      },
      "text/plain": [
       "HBox(children=(FloatProgress(value=0.0, description='branches loop', max=2.0, style=ProgressStyle(description_…"
      ]
     },
     "metadata": {},
     "output_type": "display_data"
    },
    {
     "data": {
      "application/vnd.jupyter.widget-view+json": {
       "model_id": "",
       "version_major": 2,
       "version_minor": 0
      },
      "text/plain": [
       "HBox(children=(FloatProgress(value=0.0, description='branches loop', max=2.0, style=ProgressStyle(description_…"
      ]
     },
     "metadata": {},
     "output_type": "display_data"
    },
    {
     "data": {
      "application/vnd.jupyter.widget-view+json": {
       "model_id": "",
       "version_major": 2,
       "version_minor": 0
      },
      "text/plain": [
       "HBox(children=(FloatProgress(value=0.0, description='branches loop', max=1.0, style=ProgressStyle(description_…"
      ]
     },
     "metadata": {},
     "output_type": "display_data"
    },
    {
     "data": {
      "application/vnd.jupyter.widget-view+json": {
       "model_id": "",
       "version_major": 2,
       "version_minor": 0
      },
      "text/plain": [
       "HBox(children=(FloatProgress(value=0.0, description='branches loop', max=7.0, style=ProgressStyle(description_…"
      ]
     },
     "metadata": {},
     "output_type": "display_data"
    },
    {
     "data": {
      "application/vnd.jupyter.widget-view+json": {
       "model_id": "",
       "version_major": 2,
       "version_minor": 0
      },
      "text/plain": [
       "HBox(children=(FloatProgress(value=0.0, description='branches loop', max=3.0, style=ProgressStyle(description_…"
      ]
     },
     "metadata": {},
     "output_type": "display_data"
    },
    {
     "data": {
      "application/vnd.jupyter.widget-view+json": {
       "model_id": "",
       "version_major": 2,
       "version_minor": 0
      },
      "text/plain": [
       "HBox(children=(FloatProgress(value=0.0, description='branches loop', max=2.0, style=ProgressStyle(description_…"
      ]
     },
     "metadata": {},
     "output_type": "display_data"
    },
    {
     "data": {
      "application/vnd.jupyter.widget-view+json": {
       "model_id": "",
       "version_major": 2,
       "version_minor": 0
      },
      "text/plain": [
       "HBox(children=(FloatProgress(value=0.0, description='branches loop', max=7.0, style=ProgressStyle(description_…"
      ]
     },
     "metadata": {},
     "output_type": "display_data"
    },
    {
     "data": {
      "application/vnd.jupyter.widget-view+json": {
       "model_id": "",
       "version_major": 2,
       "version_minor": 0
      },
      "text/plain": [
       "HBox(children=(FloatProgress(value=0.0, description='branches loop', max=3.0, style=ProgressStyle(description_…"
      ]
     },
     "metadata": {},
     "output_type": "display_data"
    },
    {
     "data": {
      "application/vnd.jupyter.widget-view+json": {
       "model_id": "",
       "version_major": 2,
       "version_minor": 0
      },
      "text/plain": [
       "HBox(children=(FloatProgress(value=0.0, description='branches loop', max=2.0, style=ProgressStyle(description_…"
      ]
     },
     "metadata": {},
     "output_type": "display_data"
    },
    {
     "data": {
      "application/vnd.jupyter.widget-view+json": {
       "model_id": "",
       "version_major": 2,
       "version_minor": 0
      },
      "text/plain": [
       "HBox(children=(FloatProgress(value=0.0, description='branches loop', max=4.0, style=ProgressStyle(description_…"
      ]
     },
     "metadata": {},
     "output_type": "display_data"
    },
    {
     "data": {
      "application/vnd.jupyter.widget-view+json": {
       "model_id": "",
       "version_major": 2,
       "version_minor": 0
      },
      "text/plain": [
       "HBox(children=(FloatProgress(value=0.0, description='branches loop', max=6.0, style=ProgressStyle(description_…"
      ]
     },
     "metadata": {},
     "output_type": "display_data"
    },
    {
     "data": {
      "application/vnd.jupyter.widget-view+json": {
       "model_id": "",
       "version_major": 2,
       "version_minor": 0
      },
      "text/plain": [
       "HBox(children=(FloatProgress(value=0.0, description='branches loop', max=6.0, style=ProgressStyle(description_…"
      ]
     },
     "metadata": {},
     "output_type": "display_data"
    },
    {
     "data": {
      "application/vnd.jupyter.widget-view+json": {
       "model_id": "",
       "version_major": 2,
       "version_minor": 0
      },
      "text/plain": [
       "HBox(children=(FloatProgress(value=0.0, description='branches loop', max=5.0, style=ProgressStyle(description_…"
      ]
     },
     "metadata": {},
     "output_type": "display_data"
    },
    {
     "data": {
      "application/vnd.jupyter.widget-view+json": {
       "model_id": "",
       "version_major": 2,
       "version_minor": 0
      },
      "text/plain": [
       "HBox(children=(FloatProgress(value=0.0, description='branches loop', max=3.0, style=ProgressStyle(description_…"
      ]
     },
     "metadata": {},
     "output_type": "display_data"
    },
    {
     "data": {
      "application/vnd.jupyter.widget-view+json": {
       "model_id": "",
       "version_major": 2,
       "version_minor": 0
      },
      "text/plain": [
       "HBox(children=(FloatProgress(value=0.0, description='branches loop', max=2.0, style=ProgressStyle(description_…"
      ]
     },
     "metadata": {},
     "output_type": "display_data"
    },
    {
     "data": {
      "application/vnd.jupyter.widget-view+json": {
       "model_id": "",
       "version_major": 2,
       "version_minor": 0
      },
      "text/plain": [
       "HBox(children=(FloatProgress(value=0.0, description='branches loop', max=2.0, style=ProgressStyle(description_…"
      ]
     },
     "metadata": {},
     "output_type": "display_data"
    },
    {
     "data": {
      "application/vnd.jupyter.widget-view+json": {
       "model_id": "",
       "version_major": 2,
       "version_minor": 0
      },
      "text/plain": [
       "HBox(children=(FloatProgress(value=0.0, description='branches loop', max=2.0, style=ProgressStyle(description_…"
      ]
     },
     "metadata": {},
     "output_type": "display_data"
    },
    {
     "data": {
      "application/vnd.jupyter.widget-view+json": {
       "model_id": "",
       "version_major": 2,
       "version_minor": 0
      },
      "text/plain": [
       "HBox(children=(FloatProgress(value=0.0, description='branches loop', max=4.0, style=ProgressStyle(description_…"
      ]
     },
     "metadata": {},
     "output_type": "display_data"
    },
    {
     "data": {
      "application/vnd.jupyter.widget-view+json": {
       "model_id": "",
       "version_major": 2,
       "version_minor": 0
      },
      "text/plain": [
       "HBox(children=(FloatProgress(value=0.0, description='branches loop', max=4.0, style=ProgressStyle(description_…"
      ]
     },
     "metadata": {},
     "output_type": "display_data"
    },
    {
     "data": {
      "application/vnd.jupyter.widget-view+json": {
       "model_id": "",
       "version_major": 2,
       "version_minor": 0
      },
      "text/plain": [
       "HBox(children=(FloatProgress(value=0.0, description='branches loop', max=2.0, style=ProgressStyle(description_…"
      ]
     },
     "metadata": {},
     "output_type": "display_data"
    },
    {
     "data": {
      "application/vnd.jupyter.widget-view+json": {
       "model_id": "",
       "version_major": 2,
       "version_minor": 0
      },
      "text/plain": [
       "HBox(children=(FloatProgress(value=0.0, description='branches loop', max=4.0, style=ProgressStyle(description_…"
      ]
     },
     "metadata": {},
     "output_type": "display_data"
    },
    {
     "data": {
      "application/vnd.jupyter.widget-view+json": {
       "model_id": "",
       "version_major": 2,
       "version_minor": 0
      },
      "text/plain": [
       "HBox(children=(FloatProgress(value=0.0, description='branches loop', max=2.0, style=ProgressStyle(description_…"
      ]
     },
     "metadata": {},
     "output_type": "display_data"
    },
    {
     "data": {
      "application/vnd.jupyter.widget-view+json": {
       "model_id": "",
       "version_major": 2,
       "version_minor": 0
      },
      "text/plain": [
       "HBox(children=(FloatProgress(value=0.0, description='branches loop', max=2.0, style=ProgressStyle(description_…"
      ]
     },
     "metadata": {},
     "output_type": "display_data"
    },
    {
     "data": {
      "application/vnd.jupyter.widget-view+json": {
       "model_id": "",
       "version_major": 2,
       "version_minor": 0
      },
      "text/plain": [
       "HBox(children=(FloatProgress(value=0.0, description='branches loop', max=2.0, style=ProgressStyle(description_…"
      ]
     },
     "metadata": {},
     "output_type": "display_data"
    },
    {
     "data": {
      "application/vnd.jupyter.widget-view+json": {
       "model_id": "",
       "version_major": 2,
       "version_minor": 0
      },
      "text/plain": [
       "HBox(children=(FloatProgress(value=0.0, description='branches loop', max=4.0, style=ProgressStyle(description_…"
      ]
     },
     "metadata": {},
     "output_type": "display_data"
    },
    {
     "data": {
      "application/vnd.jupyter.widget-view+json": {
       "model_id": "",
       "version_major": 2,
       "version_minor": 0
      },
      "text/plain": [
       "HBox(children=(FloatProgress(value=0.0, description='branches loop', max=4.0, style=ProgressStyle(description_…"
      ]
     },
     "metadata": {},
     "output_type": "display_data"
    },
    {
     "data": {
      "application/vnd.jupyter.widget-view+json": {
       "model_id": "",
       "version_major": 2,
       "version_minor": 0
      },
      "text/plain": [
       "HBox(children=(FloatProgress(value=0.0, description='branches loop', max=4.0, style=ProgressStyle(description_…"
      ]
     },
     "metadata": {},
     "output_type": "display_data"
    },
    {
     "data": {
      "application/vnd.jupyter.widget-view+json": {
       "model_id": "",
       "version_major": 2,
       "version_minor": 0
      },
      "text/plain": [
       "HBox(children=(FloatProgress(value=0.0, description='branches loop', max=2.0, style=ProgressStyle(description_…"
      ]
     },
     "metadata": {},
     "output_type": "display_data"
    },
    {
     "data": {
      "application/vnd.jupyter.widget-view+json": {
       "model_id": "",
       "version_major": 2,
       "version_minor": 0
      },
      "text/plain": [
       "HBox(children=(FloatProgress(value=0.0, description='branches loop', max=2.0, style=ProgressStyle(description_…"
      ]
     },
     "metadata": {},
     "output_type": "display_data"
    },
    {
     "data": {
      "application/vnd.jupyter.widget-view+json": {
       "model_id": "",
       "version_major": 2,
       "version_minor": 0
      },
      "text/plain": [
       "HBox(children=(FloatProgress(value=0.0, description='branches loop', max=2.0, style=ProgressStyle(description_…"
      ]
     },
     "metadata": {},
     "output_type": "display_data"
    },
    {
     "data": {
      "application/vnd.jupyter.widget-view+json": {
       "model_id": "",
       "version_major": 2,
       "version_minor": 0
      },
      "text/plain": [
       "HBox(children=(FloatProgress(value=0.0, description='branches loop', max=1.0, style=ProgressStyle(description_…"
      ]
     },
     "metadata": {},
     "output_type": "display_data"
    },
    {
     "data": {
      "application/vnd.jupyter.widget-view+json": {
       "model_id": "",
       "version_major": 2,
       "version_minor": 0
      },
      "text/plain": [
       "HBox(children=(FloatProgress(value=0.0, description='branches loop', max=4.0, style=ProgressStyle(description_…"
      ]
     },
     "metadata": {},
     "output_type": "display_data"
    },
    {
     "data": {
      "application/vnd.jupyter.widget-view+json": {
       "model_id": "",
       "version_major": 2,
       "version_minor": 0
      },
      "text/plain": [
       "HBox(children=(FloatProgress(value=0.0, description='branches loop', max=2.0, style=ProgressStyle(description_…"
      ]
     },
     "metadata": {},
     "output_type": "display_data"
    },
    {
     "data": {
      "application/vnd.jupyter.widget-view+json": {
       "model_id": "",
       "version_major": 2,
       "version_minor": 0
      },
      "text/plain": [
       "HBox(children=(FloatProgress(value=0.0, description='branches loop', max=2.0, style=ProgressStyle(description_…"
      ]
     },
     "metadata": {},
     "output_type": "display_data"
    },
    {
     "data": {
      "application/vnd.jupyter.widget-view+json": {
       "model_id": "",
       "version_major": 2,
       "version_minor": 0
      },
      "text/plain": [
       "HBox(children=(FloatProgress(value=0.0, description='branches loop', max=2.0, style=ProgressStyle(description_…"
      ]
     },
     "metadata": {},
     "output_type": "display_data"
    },
    {
     "data": {
      "application/vnd.jupyter.widget-view+json": {
       "model_id": "",
       "version_major": 2,
       "version_minor": 0
      },
      "text/plain": [
       "HBox(children=(FloatProgress(value=0.0, description='branches loop', max=2.0, style=ProgressStyle(description_…"
      ]
     },
     "metadata": {},
     "output_type": "display_data"
    },
    {
     "data": {
      "application/vnd.jupyter.widget-view+json": {
       "model_id": "",
       "version_major": 2,
       "version_minor": 0
      },
      "text/plain": [
       "HBox(children=(FloatProgress(value=0.0, description='branches loop', max=4.0, style=ProgressStyle(description_…"
      ]
     },
     "metadata": {},
     "output_type": "display_data"
    },
    {
     "data": {
      "application/vnd.jupyter.widget-view+json": {
       "model_id": "",
       "version_major": 2,
       "version_minor": 0
      },
      "text/plain": [
       "HBox(children=(FloatProgress(value=0.0, description='branches loop', max=3.0, style=ProgressStyle(description_…"
      ]
     },
     "metadata": {},
     "output_type": "display_data"
    },
    {
     "name": "stdout",
     "output_type": "stream",
     "text": [
      "\n"
     ]
    }
   ],
   "source": [
    "X = []\n",
    "nb_genes = 4\n",
    "\n",
    "for t in tqdm(X_, desc='trees loop'):\n",
    "    \n",
    "    # find max length of the given tree\n",
    "    max_len_tree = 0\n",
    "    for d in t:\n",
    "        if d.shape[0]>max_len_tree:\n",
    "            max_len_tree = d.shape[0]\n",
    "        \n",
    "    # pad all branches to max length\n",
    "    tree = []\n",
    "    for d in t:\n",
    "        len_to_pad = max_len_tree - d.shape[0]\n",
    "        branch = np.concatenate([d,np.repeat(d[-1,np.newaxis,:], len_to_pad, axis=0)],axis=0)\n",
    "        tree.append(branch)\n",
    "    \n",
    "    tree = np.array(tree, dtype=np.float64)\n",
    "#     tree = TimeSeriesScalerMinMax().fit_transform(tree)\n",
    "    tree = TimeSeriesScalerMeanVariance().fit_transform(tree)\n",
    "\n",
    "    # select genes within each branch by clustering\n",
    "    new_tree = []\n",
    "    for branch in tqdm(tree, desc='branches loop', leave=False):\n",
    "        clf = TimeSeriesKMeans(n_clusters=nb_genes, metric=\"euclidean\", max_iter=5, random_state=0).fit(branch.T[:,:,None])\n",
    "        new_tree.append(np.squeeze(clf.cluster_centers_).T)\n",
    "\n",
    "    X.append(np.array(new_tree))"
   ]
  },
  {
   "cell_type": "code",
   "execution_count": 597,
   "metadata": {},
   "outputs": [
    {
     "name": "stdout",
     "output_type": "stream",
     "text": [
      "clustered tree shape: (3, 5, 4)\n",
      "class: 0\n"
     ]
    },
    {
     "data": {
      "image/png": "[encoded data removed]",
      "text/plain": [
       "<Figure size 1152x360 with 3 Axes>"
      ]
     },
     "metadata": {
      "needs_background": "light"
     },
     "output_type": "display_data"
    },
    {
     "name": "stdout",
     "output_type": "stream",
     "text": [
      "clustered tree shape: (3, 6, 4)\n",
      "class: 0\n"
     ]
    },
    {
     "data": {
      "image/png": "[encoded data removed]",
      "text/plain": [
       "<Figure size 1152x360 with 3 Axes>"
      ]
     },
     "metadata": {
      "needs_background": "light"
     },
     "output_type": "display_data"
    },
    {
     "name": "stdout",
     "output_type": "stream",
     "text": [
      "clustered tree shape: (2, 4, 4)\n",
      "class: 1\n"
     ]
    },
    {
     "data": {
      "image/png": "[encoded data removed]",
      "text/plain": [
       "<Figure size 1152x360 with 2 Axes>"
      ]
     },
     "metadata": {
      "needs_background": "light"
     },
     "output_type": "display_data"
    }
   ],
   "source": [
    "for i in [0,10,20]:\n",
    "\n",
    "    tree = X[i]\n",
    "    label = y[i]\n",
    "\n",
    "    print(f'clustered tree shape: {tree.shape}')\n",
    "    print(f'class: {label}')\n",
    "\n",
    "    fig, ax = plt.subplots(1, tree.shape[0], figsize=(16,5))\n",
    "    for k in range(tree.shape[0]):\n",
    "        ax[k].plot(tree[k,:,1:])\n",
    "        ax[k].set_title(f'Branch {k+1}')\n",
    "    plt.show()"
   ]
  },
  {
   "cell_type": "markdown",
   "metadata": {},
   "source": [
    "# Inference: kNN and SVC estimators"
   ]
  },
  {
   "cell_type": "code",
   "execution_count": 631,
   "metadata": {},
   "outputs": [],
   "source": [
    "class TreeKernel(BaseEstimator, TransformerMixin):\n",
    "    def __init__(self, K_full=None, sigma=1.0):\n",
    "        super(TreeKernel, self).__init__()\n",
    "        self.K_full = K_full\n",
    "        self.sigma = sigma\n",
    "\n",
    "    def transform(self, ind):\n",
    "        return np.exp(-self.K_full[ind][:,self.ind_train]/self.sigma)\n",
    "\n",
    "    def fit(self, ind, y=None, **fit_params):\n",
    "        self.ind_train = ind\n",
    "        return self"
   ]
  },
  {
   "cell_type": "code",
   "execution_count": 616,
   "metadata": {},
   "outputs": [],
   "source": [
    "# data params\n",
    "N = len(X)\n",
    "\n",
    "# train test split\n",
    "ind_train, ind_test, y_train, y_test = train_test_split(np.arange(len(y)), y, test_size=0.2, stratify=y, random_state=42)\n",
    "\n",
    "# kernel settings\n",
    "n, solver, rbf = 1, 1, True\n",
    "\n",
    "# path scalings for kernel\n",
    "scales = [1e-3, 1e-2, 1e-1, 1e0, 1e1, 1e2]\n",
    "\n",
    "# rbf settings\n",
    "sigmas = [1e-3, 1e-2, 5e-2, 1e-1, 5e-1, 1e0, 1e1]"
   ]
  },
  {
   "cell_type": "code",
   "execution_count": 627,
   "metadata": {},
   "outputs": [
    {
     "data": {
      "application/vnd.jupyter.widget-view+json": {
       "model_id": "2b1e44c4b93646f58a9c0d3dce909eed",
       "version_major": 2,
       "version_minor": 0
      },
      "text/plain": [
       "HBox(children=(FloatProgress(value=0.0, description='1st loop (scales)', max=6.0, style=ProgressStyle(descript…"
      ]
     },
     "metadata": {},
     "output_type": "display_data"
    },
    {
     "data": {
      "application/vnd.jupyter.widget-view+json": {
       "model_id": "",
       "version_major": 2,
       "version_minor": 0
      },
      "text/plain": [
       "HBox(children=(FloatProgress(value=0.0, description='2nd loop (sigmas)', max=7.0, style=ProgressStyle(descript…"
      ]
     },
     "metadata": {},
     "output_type": "display_data"
    },
    {
     "data": {
      "application/vnd.jupyter.widget-view+json": {
       "model_id": "",
       "version_major": 2,
       "version_minor": 0
      },
      "text/plain": [
       "HBox(children=(FloatProgress(value=0.0, description='3nd loop', max=91.0, style=ProgressStyle(description_widt…"
      ]
     },
     "metadata": {},
     "output_type": "display_data"
    },
    {
     "data": {
      "application/vnd.jupyter.widget-view+json": {
       "model_id": "",
       "version_major": 2,
       "version_minor": 0
      },
      "text/plain": [
       "HBox(children=(FloatProgress(value=0.0, description='3nd loop', max=91.0, style=ProgressStyle(description_widt…"
      ]
     },
     "metadata": {},
     "output_type": "display_data"
    },
    {
     "data": {
      "application/vnd.jupyter.widget-view+json": {
       "model_id": "",
       "version_major": 2,
       "version_minor": 0
      },
      "text/plain": [
       "HBox(children=(FloatProgress(value=0.0, description='3nd loop', max=91.0, style=ProgressStyle(description_widt…"
      ]
     },
     "metadata": {},
     "output_type": "display_data"
    },
    {
     "data": {
      "application/vnd.jupyter.widget-view+json": {
       "model_id": "",
       "version_major": 2,
       "version_minor": 0
      },
      "text/plain": [
       "HBox(children=(FloatProgress(value=0.0, description='3nd loop', max=91.0, style=ProgressStyle(description_widt…"
      ]
     },
     "metadata": {},
     "output_type": "display_data"
    },
    {
     "data": {
      "application/vnd.jupyter.widget-view+json": {
       "model_id": "",
       "version_major": 2,
       "version_minor": 0
      },
      "text/plain": [
       "HBox(children=(FloatProgress(value=0.0, description='3nd loop', max=91.0, style=ProgressStyle(description_widt…"
      ]
     },
     "metadata": {},
     "output_type": "display_data"
    },
    {
     "data": {
      "application/vnd.jupyter.widget-view+json": {
       "model_id": "",
       "version_major": 2,
       "version_minor": 0
      },
      "text/plain": [
       "HBox(children=(FloatProgress(value=0.0, description='3nd loop', max=91.0, style=ProgressStyle(description_widt…"
      ]
     },
     "metadata": {},
     "output_type": "display_data"
    },
    {
     "data": {
      "application/vnd.jupyter.widget-view+json": {
       "model_id": "",
       "version_major": 2,
       "version_minor": 0
      },
      "text/plain": [
       "HBox(children=(FloatProgress(value=0.0, description='3nd loop', max=91.0, style=ProgressStyle(description_widt…"
      ]
     },
     "metadata": {},
     "output_type": "display_data"
    },
    {
     "data": {
      "application/vnd.jupyter.widget-view+json": {
       "model_id": "",
       "version_major": 2,
       "version_minor": 0
      },
      "text/plain": [
       "HBox(children=(FloatProgress(value=0.0, description='2nd loop (sigmas)', max=7.0, style=ProgressStyle(descript…"
      ]
     },
     "metadata": {},
     "output_type": "display_data"
    },
    {
     "data": {
      "application/vnd.jupyter.widget-view+json": {
       "model_id": "",
       "version_major": 2,
       "version_minor": 0
      },
      "text/plain": [
       "HBox(children=(FloatProgress(value=0.0, description='3nd loop', max=91.0, style=ProgressStyle(description_widt…"
      ]
     },
     "metadata": {},
     "output_type": "display_data"
    },
    {
     "data": {
      "application/vnd.jupyter.widget-view+json": {
       "model_id": "",
       "version_major": 2,
       "version_minor": 0
      },
      "text/plain": [
       "HBox(children=(FloatProgress(value=0.0, description='3nd loop', max=91.0, style=ProgressStyle(description_widt…"
      ]
     },
     "metadata": {},
     "output_type": "display_data"
    },
    {
     "data": {
      "application/vnd.jupyter.widget-view+json": {
       "model_id": "",
       "version_major": 2,
       "version_minor": 0
      },
      "text/plain": [
       "HBox(children=(FloatProgress(value=0.0, description='3nd loop', max=91.0, style=ProgressStyle(description_widt…"
      ]
     },
     "metadata": {},
     "output_type": "display_data"
    },
    {
     "data": {
      "application/vnd.jupyter.widget-view+json": {
       "model_id": "",
       "version_major": 2,
       "version_minor": 0
      },
      "text/plain": [
       "HBox(children=(FloatProgress(value=0.0, description='3nd loop', max=91.0, style=ProgressStyle(description_widt…"
      ]
     },
     "metadata": {},
     "output_type": "display_data"
    },
    {
     "data": {
      "application/vnd.jupyter.widget-view+json": {
       "model_id": "",
       "version_major": 2,
       "version_minor": 0
      },
      "text/plain": [
       "HBox(children=(FloatProgress(value=0.0, description='3nd loop', max=91.0, style=ProgressStyle(description_widt…"
      ]
     },
     "metadata": {},
     "output_type": "display_data"
    },
    {
     "data": {
      "application/vnd.jupyter.widget-view+json": {
       "model_id": "",
       "version_major": 2,
       "version_minor": 0
      },
      "text/plain": [
       "HBox(children=(FloatProgress(value=0.0, description='3nd loop', max=91.0, style=ProgressStyle(description_widt…"
      ]
     },
     "metadata": {},
     "output_type": "display_data"
    },
    {
     "data": {
      "application/vnd.jupyter.widget-view+json": {
       "model_id": "",
       "version_major": 2,
       "version_minor": 0
      },
      "text/plain": [
       "HBox(children=(FloatProgress(value=0.0, description='3nd loop', max=91.0, style=ProgressStyle(description_widt…"
      ]
     },
     "metadata": {},
     "output_type": "display_data"
    },
    {
     "data": {
      "application/vnd.jupyter.widget-view+json": {
       "model_id": "",
       "version_major": 2,
       "version_minor": 0
      },
      "text/plain": [
       "HBox(children=(FloatProgress(value=0.0, description='2nd loop (sigmas)', max=7.0, style=ProgressStyle(descript…"
      ]
     },
     "metadata": {},
     "output_type": "display_data"
    },
    {
     "data": {
      "application/vnd.jupyter.widget-view+json": {
       "model_id": "",
       "version_major": 2,
       "version_minor": 0
      },
      "text/plain": [
       "HBox(children=(FloatProgress(value=0.0, description='3nd loop', max=91.0, style=ProgressStyle(description_widt…"
      ]
     },
     "metadata": {},
     "output_type": "display_data"
    },
    {
     "data": {
      "application/vnd.jupyter.widget-view+json": {
       "model_id": "",
       "version_major": 2,
       "version_minor": 0
      },
      "text/plain": [
       "HBox(children=(FloatProgress(value=0.0, description='3nd loop', max=91.0, style=ProgressStyle(description_widt…"
      ]
     },
     "metadata": {},
     "output_type": "display_data"
    },
    {
     "data": {
      "application/vnd.jupyter.widget-view+json": {
       "model_id": "",
       "version_major": 2,
       "version_minor": 0
      },
      "text/plain": [
       "HBox(children=(FloatProgress(value=0.0, description='3nd loop', max=91.0, style=ProgressStyle(description_widt…"
      ]
     },
     "metadata": {},
     "output_type": "display_data"
    },
    {
     "data": {
      "application/vnd.jupyter.widget-view+json": {
       "model_id": "",
       "version_major": 2,
       "version_minor": 0
      },
      "text/plain": [
       "HBox(children=(FloatProgress(value=0.0, description='3nd loop', max=91.0, style=ProgressStyle(description_widt…"
      ]
     },
     "metadata": {},
     "output_type": "display_data"
    },
    {
     "data": {
      "application/vnd.jupyter.widget-view+json": {
       "model_id": "",
       "version_major": 2,
       "version_minor": 0
      },
      "text/plain": [
       "HBox(children=(FloatProgress(value=0.0, description='3nd loop', max=91.0, style=ProgressStyle(description_widt…"
      ]
     },
     "metadata": {},
     "output_type": "display_data"
    },
    {
     "data": {
      "application/vnd.jupyter.widget-view+json": {
       "model_id": "",
       "version_major": 2,
       "version_minor": 0
      },
      "text/plain": [
       "HBox(children=(FloatProgress(value=0.0, description='3nd loop', max=91.0, style=ProgressStyle(description_widt…"
      ]
     },
     "metadata": {},
     "output_type": "display_data"
    },
    {
     "data": {
      "application/vnd.jupyter.widget-view+json": {
       "model_id": "",
       "version_major": 2,
       "version_minor": 0
      },
      "text/plain": [
       "HBox(children=(FloatProgress(value=0.0, description='3nd loop', max=91.0, style=ProgressStyle(description_widt…"
      ]
     },
     "metadata": {},
     "output_type": "display_data"
    },
    {
     "data": {
      "application/vnd.jupyter.widget-view+json": {
       "model_id": "",
       "version_major": 2,
       "version_minor": 0
      },
      "text/plain": [
       "HBox(children=(FloatProgress(value=0.0, description='2nd loop (sigmas)', max=7.0, style=ProgressStyle(descript…"
      ]
     },
     "metadata": {},
     "output_type": "display_data"
    },
    {
     "data": {
      "application/vnd.jupyter.widget-view+json": {
       "model_id": "",
       "version_major": 2,
       "version_minor": 0
      },
      "text/plain": [
       "HBox(children=(FloatProgress(value=0.0, description='3nd loop', max=91.0, style=ProgressStyle(description_widt…"
      ]
     },
     "metadata": {},
     "output_type": "display_data"
    },
    {
     "data": {
      "application/vnd.jupyter.widget-view+json": {
       "model_id": "",
       "version_major": 2,
       "version_minor": 0
      },
      "text/plain": [
       "HBox(children=(FloatProgress(value=0.0, description='3nd loop', max=91.0, style=ProgressStyle(description_widt…"
      ]
     },
     "metadata": {},
     "output_type": "display_data"
    },
    {
     "data": {
      "application/vnd.jupyter.widget-view+json": {
       "model_id": "",
       "version_major": 2,
       "version_minor": 0
      },
      "text/plain": [
       "HBox(children=(FloatProgress(value=0.0, description='3nd loop', max=91.0, style=ProgressStyle(description_widt…"
      ]
     },
     "metadata": {},
     "output_type": "display_data"
    },
    {
     "data": {
      "application/vnd.jupyter.widget-view+json": {
       "model_id": "",
       "version_major": 2,
       "version_minor": 0
      },
      "text/plain": [
       "HBox(children=(FloatProgress(value=0.0, description='3nd loop', max=91.0, style=ProgressStyle(description_widt…"
      ]
     },
     "metadata": {},
     "output_type": "display_data"
    },
    {
     "data": {
      "application/vnd.jupyter.widget-view+json": {
       "model_id": "",
       "version_major": 2,
       "version_minor": 0
      },
      "text/plain": [
       "HBox(children=(FloatProgress(value=0.0, description='3nd loop', max=91.0, style=ProgressStyle(description_widt…"
      ]
     },
     "metadata": {},
     "output_type": "display_data"
    },
    {
     "data": {
      "application/vnd.jupyter.widget-view+json": {
       "model_id": "",
       "version_major": 2,
       "version_minor": 0
      },
      "text/plain": [
       "HBox(children=(FloatProgress(value=0.0, description='3nd loop', max=91.0, style=ProgressStyle(description_widt…"
      ]
     },
     "metadata": {},
     "output_type": "display_data"
    },
    {
     "data": {
      "application/vnd.jupyter.widget-view+json": {
       "model_id": "",
       "version_major": 2,
       "version_minor": 0
      },
      "text/plain": [
       "HBox(children=(FloatProgress(value=0.0, description='3nd loop', max=91.0, style=ProgressStyle(description_widt…"
      ]
     },
     "metadata": {},
     "output_type": "display_data"
    },
    {
     "data": {
      "application/vnd.jupyter.widget-view+json": {
       "model_id": "",
       "version_major": 2,
       "version_minor": 0
      },
      "text/plain": [
       "HBox(children=(FloatProgress(value=0.0, description='2nd loop (sigmas)', max=7.0, style=ProgressStyle(descript…"
      ]
     },
     "metadata": {},
     "output_type": "display_data"
    },
    {
     "data": {
      "application/vnd.jupyter.widget-view+json": {
       "model_id": "",
       "version_major": 2,
       "version_minor": 0
      },
      "text/plain": [
       "HBox(children=(FloatProgress(value=0.0, description='3nd loop', max=91.0, style=ProgressStyle(description_widt…"
      ]
     },
     "metadata": {},
     "output_type": "display_data"
    },
    {
     "data": {
      "application/vnd.jupyter.widget-view+json": {
       "model_id": "",
       "version_major": 2,
       "version_minor": 0
      },
      "text/plain": [
       "HBox(children=(FloatProgress(value=0.0, description='3nd loop', max=91.0, style=ProgressStyle(description_widt…"
      ]
     },
     "metadata": {},
     "output_type": "display_data"
    },
    {
     "data": {
      "application/vnd.jupyter.widget-view+json": {
       "model_id": "",
       "version_major": 2,
       "version_minor": 0
      },
      "text/plain": [
       "HBox(children=(FloatProgress(value=0.0, description='3nd loop', max=91.0, style=ProgressStyle(description_widt…"
      ]
     },
     "metadata": {},
     "output_type": "display_data"
    },
    {
     "data": {
      "application/vnd.jupyter.widget-view+json": {
       "model_id": "",
       "version_major": 2,
       "version_minor": 0
      },
      "text/plain": [
       "HBox(children=(FloatProgress(value=0.0, description='3nd loop', max=91.0, style=ProgressStyle(description_widt…"
      ]
     },
     "metadata": {},
     "output_type": "display_data"
    },
    {
     "data": {
      "application/vnd.jupyter.widget-view+json": {
       "model_id": "",
       "version_major": 2,
       "version_minor": 0
      },
      "text/plain": [
       "HBox(children=(FloatProgress(value=0.0, description='3nd loop', max=91.0, style=ProgressStyle(description_widt…"
      ]
     },
     "metadata": {},
     "output_type": "display_data"
    },
    {
     "data": {
      "application/vnd.jupyter.widget-view+json": {
       "model_id": "",
       "version_major": 2,
       "version_minor": 0
      },
      "text/plain": [
       "HBox(children=(FloatProgress(value=0.0, description='3nd loop', max=91.0, style=ProgressStyle(description_widt…"
      ]
     },
     "metadata": {},
     "output_type": "display_data"
    },
    {
     "data": {
      "application/vnd.jupyter.widget-view+json": {
       "model_id": "",
       "version_major": 2,
       "version_minor": 0
      },
      "text/plain": [
       "HBox(children=(FloatProgress(value=0.0, description='3nd loop', max=91.0, style=ProgressStyle(description_widt…"
      ]
     },
     "metadata": {},
     "output_type": "display_data"
    },
    {
     "data": {
      "application/vnd.jupyter.widget-view+json": {
       "model_id": "",
       "version_major": 2,
       "version_minor": 0
      },
      "text/plain": [
       "HBox(children=(FloatProgress(value=0.0, description='2nd loop (sigmas)', max=7.0, style=ProgressStyle(descript…"
      ]
     },
     "metadata": {},
     "output_type": "display_data"
    },
    {
     "data": {
      "application/vnd.jupyter.widget-view+json": {
       "model_id": "",
       "version_major": 2,
       "version_minor": 0
      },
      "text/plain": [
       "HBox(children=(FloatProgress(value=0.0, description='3nd loop', max=91.0, style=ProgressStyle(description_widt…"
      ]
     },
     "metadata": {},
     "output_type": "display_data"
    },
    {
     "data": {
      "application/vnd.jupyter.widget-view+json": {
       "model_id": "",
       "version_major": 2,
       "version_minor": 0
      },
      "text/plain": [
       "HBox(children=(FloatProgress(value=0.0, description='3nd loop', max=91.0, style=ProgressStyle(description_widt…"
      ]
     },
     "metadata": {},
     "output_type": "display_data"
    },
    {
     "data": {
      "application/vnd.jupyter.widget-view+json": {
       "model_id": "",
       "version_major": 2,
       "version_minor": 0
      },
      "text/plain": [
       "HBox(children=(FloatProgress(value=0.0, description='3nd loop', max=91.0, style=ProgressStyle(description_widt…"
      ]
     },
     "metadata": {},
     "output_type": "display_data"
    },
    {
     "data": {
      "application/vnd.jupyter.widget-view+json": {
       "model_id": "",
       "version_major": 2,
       "version_minor": 0
      },
      "text/plain": [
       "HBox(children=(FloatProgress(value=0.0, description='3nd loop', max=91.0, style=ProgressStyle(description_widt…"
      ]
     },
     "metadata": {},
     "output_type": "display_data"
    },
    {
     "data": {
      "application/vnd.jupyter.widget-view+json": {
       "model_id": "",
       "version_major": 2,
       "version_minor": 0
      },
      "text/plain": [
       "HBox(children=(FloatProgress(value=0.0, description='3nd loop', max=91.0, style=ProgressStyle(description_widt…"
      ]
     },
     "metadata": {},
     "output_type": "display_data"
    },
    {
     "data": {
      "application/vnd.jupyter.widget-view+json": {
       "model_id": "",
       "version_major": 2,
       "version_minor": 0
      },
      "text/plain": [
       "HBox(children=(FloatProgress(value=0.0, description='3nd loop', max=91.0, style=ProgressStyle(description_widt…"
      ]
     },
     "metadata": {},
     "output_type": "display_data"
    },
    {
     "data": {
      "application/vnd.jupyter.widget-view+json": {
       "model_id": "",
       "version_major": 2,
       "version_minor": 0
      },
      "text/plain": [
       "HBox(children=(FloatProgress(value=0.0, description='3nd loop', max=91.0, style=ProgressStyle(description_widt…"
      ]
     },
     "metadata": {},
     "output_type": "display_data"
    },
    {
     "name": "stdout",
     "output_type": "stream",
     "text": [
      "\n"
     ]
    }
   ],
   "source": [
    "# record results for knn and svc algo\n",
    "models_dict = {}\n",
    "\n",
    "for scale in tqdm(scales, desc='1st loop (scales)'):    \n",
    "    for sigma in tqdm(sigmas, desc='2nd loop (sigmas)', leave=False):\n",
    "    \n",
    "        # initialize mmd distance matrix\n",
    "        K_full = np.zeros((N,N))\n",
    "\n",
    "        # populate mmd distance matrix\n",
    "        for i in trange(N, desc='3nd loop', leave=False):\n",
    "            for j in range(i,N):\n",
    "                K_full[i,j] = mmd_distance(scale*X[i][:,1:], scale*X[j][:,1:], n=n, solver=solver, rbf=rbf, sigma=sigma) \n",
    "        indices = np.tril_indices(N, k=-1, m=N)\n",
    "        K_full[indices] = K_full.T[indices]\n",
    "\n",
    "        # train-test split\n",
    "        x_train = K_full[ind_train, :][:, ind_train]\n",
    "        x_test = K_full[ind_test, :][:, ind_train]\n",
    "\n",
    "        # parameters for knn algo\n",
    "        parameters_knn = {'neigh__n_neighbors': [1,2],\n",
    "                          'neigh__metric': ['precomputed']}\n",
    "\n",
    "        # parameters for svm algo\n",
    "        parameters_svc = {'tree__sigma': np.logspace(-4, 4, 9),\n",
    "                          'svc__kernel': ['precomputed'],\n",
    "                          'svc__gamma': np.logspace(4, 4, 9), \n",
    "                          'svc__C': np.logspace(0, 4, 5),\n",
    "                          'svc__class_weight': [{1:3}]}\n",
    "\n",
    "        # kNN estimator\n",
    "        neigh = KNeighborsClassifier()\n",
    "        pipeline_knn = Pipeline([('neigh', neigh)])\n",
    "\n",
    "        # SVC estimator\n",
    "        svc = SVC()\n",
    "        pipeline_svc = Pipeline([('tree', TreeKernel(K_full=K_full)),\n",
    "                                 ('svc', svc)])\n",
    "\n",
    "        # model fitting (cv grid-search)\n",
    "        model_knn = GridSearchCV(pipeline_knn, parameters_knn, verbose=0, n_jobs=-1, cv=5)\n",
    "        model_svc = GridSearchCV(pipeline_svc, parameters_svc, verbose=0, n_jobs=-1, cv=5)\n",
    "\n",
    "        model_knn.fit(np.abs(x_train), y_train)\n",
    "        model_svc.fit(ind_train, y_train)\n",
    "\n",
    "        models_dict[('knn',scale,sigma)] = model_knn\n",
    "        models_dict[('svc',scale,sigma)] = model_svc"
   ]
  },
  {
   "cell_type": "code",
   "execution_count": 630,
   "metadata": {
    "scrolled": false
   },
   "outputs": [
    {
     "name": "stdout",
     "output_type": "stream",
     "text": [
      "scale: 0.001  sigma: 0.001  best score knn: 0.75  best score svc: 0.763  \n",
      "\n",
      "KNN classification report: \n",
      "               precision    recall  f1-score   support\n",
      "\n",
      "           0       0.73      0.79      0.76        14\n",
      "           1       0.25      0.20      0.22         5\n",
      "\n",
      "    accuracy                           0.63        19\n",
      "   macro avg       0.49      0.49      0.49        19\n",
      "weighted avg       0.61      0.63      0.62        19\n",
      "\n",
      "KNN confusion matrix: \n",
      " [[11  3]\n",
      " [ 4  1]] \n",
      "\n",
      "\n",
      "SVC classification report: \n",
      "               precision    recall  f1-score   support\n",
      "\n",
      "           0       0.79      0.79      0.79        14\n",
      "           1       0.40      0.40      0.40         5\n",
      "\n",
      "    accuracy                           0.68        19\n",
      "   macro avg       0.59      0.59      0.59        19\n",
      "weighted avg       0.68      0.68      0.68        19\n",
      "\n",
      "SVC confusion matrix: \n",
      " [[11  3]\n",
      " [ 3  2]] \n",
      "\n",
      "\n",
      "\n",
      "scale: 0.001  sigma: 0.01  best score knn: 0.736  best score svc: 0.734  \n",
      "\n",
      "KNN classification report: \n",
      "               precision    recall  f1-score   support\n",
      "\n",
      "           0       0.73      0.79      0.76        14\n",
      "           1       0.25      0.20      0.22         5\n",
      "\n",
      "    accuracy                           0.63        19\n",
      "   macro avg       0.49      0.49      0.49        19\n",
      "weighted avg       0.61      0.63      0.62        19\n",
      "\n",
      "KNN confusion matrix: \n",
      " [[11  3]\n",
      " [ 4  1]] \n",
      "\n",
      "\n",
      "SVC classification report: \n",
      "               precision    recall  f1-score   support\n",
      "\n",
      "           0       0.73      0.57      0.64        14\n",
      "           1       0.25      0.40      0.31         5\n",
      "\n",
      "    accuracy                           0.53        19\n",
      "   macro avg       0.49      0.49      0.47        19\n",
      "weighted avg       0.60      0.53      0.55        19\n",
      "\n",
      "SVC confusion matrix: \n",
      " [[8 6]\n",
      " [3 2]] \n",
      "\n",
      "\n",
      "\n",
      "scale: 0.001  sigma: 0.05  best score knn: 0.75  best score svc: 0.709  \n",
      "\n",
      "KNN classification report: \n",
      "               precision    recall  f1-score   support\n",
      "\n",
      "           0       0.73      0.79      0.76        14\n",
      "           1       0.25      0.20      0.22         5\n",
      "\n",
      "    accuracy                           0.63        19\n",
      "   macro avg       0.49      0.49      0.49        19\n",
      "weighted avg       0.61      0.63      0.62        19\n",
      "\n",
      "KNN confusion matrix: \n",
      " [[11  3]\n",
      " [ 4  1]] \n",
      "\n",
      "\n",
      "SVC classification report: \n",
      "               precision    recall  f1-score   support\n",
      "\n",
      "           0       0.73      0.57      0.64        14\n",
      "           1       0.25      0.40      0.31         5\n",
      "\n",
      "    accuracy                           0.53        19\n",
      "   macro avg       0.49      0.49      0.47        19\n",
      "weighted avg       0.60      0.53      0.55        19\n",
      "\n",
      "SVC confusion matrix: \n",
      " [[8 6]\n",
      " [3 2]] \n",
      "\n",
      "\n",
      "\n",
      "scale: 0.001  sigma: 0.1  best score knn: 0.75  best score svc: 0.679  \n",
      "\n",
      "KNN classification report: \n",
      "               precision    recall  f1-score   support\n",
      "\n",
      "           0       0.73      0.79      0.76        14\n",
      "           1       0.25      0.20      0.22         5\n",
      "\n",
      "    accuracy                           0.63        19\n",
      "   macro avg       0.49      0.49      0.49        19\n",
      "weighted avg       0.61      0.63      0.62        19\n",
      "\n",
      "KNN confusion matrix: \n",
      " [[11  3]\n",
      " [ 4  1]] \n",
      "\n",
      "\n",
      "SVC classification report: \n",
      "               precision    recall  f1-score   support\n",
      "\n",
      "           0       0.70      0.50      0.58        14\n",
      "           1       0.22      0.40      0.29         5\n",
      "\n",
      "    accuracy                           0.47        19\n",
      "   macro avg       0.46      0.45      0.43        19\n",
      "weighted avg       0.57      0.47      0.51        19\n",
      "\n",
      "SVC confusion matrix: \n",
      " [[7 7]\n",
      " [3 2]] \n",
      "\n",
      "\n",
      "\n",
      "scale: 0.001  sigma: 0.5  best score knn: 0.736  best score svc: 0.568  \n",
      "\n",
      "KNN classification report: \n",
      "               precision    recall  f1-score   support\n",
      "\n",
      "           0       0.73      0.79      0.76        14\n",
      "           1       0.25      0.20      0.22         5\n",
      "\n",
      "    accuracy                           0.63        19\n",
      "   macro avg       0.49      0.49      0.49        19\n",
      "weighted avg       0.61      0.63      0.62        19\n",
      "\n",
      "KNN confusion matrix: \n",
      " [[11  3]\n",
      " [ 4  1]] \n",
      "\n",
      "\n",
      "SVC classification report: \n",
      "               precision    recall  f1-score   support\n",
      "\n",
      "           0       0.67      0.71      0.69        14\n",
      "           1       0.00      0.00      0.00         5\n",
      "\n",
      "    accuracy                           0.53        19\n",
      "   macro avg       0.33      0.36      0.34        19\n",
      "weighted avg       0.49      0.53      0.51        19\n",
      "\n",
      "SVC confusion matrix: \n",
      " [[10  4]\n",
      " [ 5  0]] \n",
      "\n",
      "\n",
      "\n",
      "scale: 0.001  sigma: 1.0  best score knn: 0.75  best score svc: 0.441  \n",
      "\n",
      "KNN classification report: \n",
      "               precision    recall  f1-score   support\n",
      "\n",
      "           0       0.73      0.79      0.76        14\n",
      "           1       0.25      0.20      0.22         5\n",
      "\n",
      "    accuracy                           0.63        19\n",
      "   macro avg       0.49      0.49      0.49        19\n",
      "weighted avg       0.61      0.63      0.62        19\n",
      "\n",
      "KNN confusion matrix: \n",
      " [[11  3]\n",
      " [ 4  1]] \n",
      "\n",
      "\n",
      "SVC classification report: \n",
      "               precision    recall  f1-score   support\n",
      "\n",
      "           0       0.69      0.79      0.73        14\n",
      "           1       0.00      0.00      0.00         5\n",
      "\n",
      "    accuracy                           0.58        19\n",
      "   macro avg       0.34      0.39      0.37        19\n",
      "weighted avg       0.51      0.58      0.54        19\n",
      "\n",
      "SVC confusion matrix: \n",
      " [[11  3]\n",
      " [ 5  0]] \n",
      "\n",
      "\n",
      "\n",
      "scale: 0.001  sigma: 10.0  best score knn: 0.75  best score svc: 0.364  \n",
      "\n",
      "KNN classification report: \n",
      "               precision    recall  f1-score   support\n",
      "\n",
      "           0       0.73      0.79      0.76        14\n",
      "           1       0.25      0.20      0.22         5\n",
      "\n",
      "    accuracy                           0.63        19\n",
      "   macro avg       0.49      0.49      0.49        19\n",
      "weighted avg       0.61      0.63      0.62        19\n",
      "\n",
      "KNN confusion matrix: \n",
      " [[11  3]\n",
      " [ 4  1]] \n",
      "\n",
      "\n",
      "SVC classification report: \n",
      "               precision    recall  f1-score   support\n",
      "\n",
      "           0       0.00      0.00      0.00        14\n",
      "           1       0.26      1.00      0.42         5\n",
      "\n",
      "    accuracy                           0.26        19\n",
      "   macro avg       0.13      0.50      0.21        19\n",
      "weighted avg       0.07      0.26      0.11        19\n",
      "\n",
      "SVC confusion matrix: \n",
      " [[ 0 14]\n",
      " [ 0  5]] \n",
      "\n",
      "\n",
      "\n",
      "scale: 0.01  sigma: 0.001  best score knn: 0.736  best score svc: 0.777  \n",
      "\n",
      "KNN classification report: \n",
      "               precision    recall  f1-score   support\n",
      "\n",
      "           0       0.71      0.36      0.48        14\n",
      "           1       0.25      0.60      0.35         5\n",
      "\n",
      "    accuracy                           0.42        19\n",
      "   macro avg       0.48      0.48      0.41        19\n",
      "weighted avg       0.59      0.42      0.44        19\n",
      "\n",
      "KNN confusion matrix: \n",
      " [[5 9]\n",
      " [2 3]] \n",
      "\n",
      "\n",
      "SVC classification report: \n",
      "               precision    recall  f1-score   support\n",
      "\n",
      "           0       0.76      0.93      0.84        14\n",
      "           1       0.50      0.20      0.29         5\n",
      "\n",
      "    accuracy                           0.74        19\n",
      "   macro avg       0.63      0.56      0.56        19\n",
      "weighted avg       0.70      0.74      0.69        19\n",
      "\n",
      "SVC confusion matrix: \n",
      " [[13  1]\n",
      " [ 4  1]] \n",
      "\n",
      "\n",
      "\n",
      "scale: 0.01  sigma: 0.01  best score knn: 0.749  best score svc: 0.762  \n",
      "\n",
      "KNN classification report: \n",
      "               precision    recall  f1-score   support\n",
      "\n",
      "           0       0.71      0.36      0.48        14\n",
      "           1       0.25      0.60      0.35         5\n",
      "\n",
      "    accuracy                           0.42        19\n",
      "   macro avg       0.48      0.48      0.41        19\n",
      "weighted avg       0.59      0.42      0.44        19\n",
      "\n",
      "KNN confusion matrix: \n",
      " [[5 9]\n",
      " [2 3]] \n",
      "\n",
      "\n",
      "SVC classification report: \n",
      "               precision    recall  f1-score   support\n",
      "\n",
      "           0       0.77      0.71      0.74        14\n",
      "           1       0.33      0.40      0.36         5\n",
      "\n",
      "    accuracy                           0.63        19\n",
      "   macro avg       0.55      0.56      0.55        19\n",
      "weighted avg       0.65      0.63      0.64        19\n",
      "\n",
      "SVC confusion matrix: \n",
      " [[10  4]\n",
      " [ 3  2]] \n",
      "\n",
      "\n",
      "\n",
      "scale: 0.01  sigma: 0.05  best score knn: 0.736  best score svc: 0.777  \n",
      "\n",
      "KNN classification report: \n",
      "               precision    recall  f1-score   support\n",
      "\n",
      "           0       0.73      0.79      0.76        14\n",
      "           1       0.25      0.20      0.22         5\n",
      "\n",
      "    accuracy                           0.63        19\n",
      "   macro avg       0.49      0.49      0.49        19\n",
      "weighted avg       0.61      0.63      0.62        19\n",
      "\n",
      "KNN confusion matrix: \n",
      " [[11  3]\n",
      " [ 4  1]] \n",
      "\n",
      "\n",
      "SVC classification report: \n",
      "               precision    recall  f1-score   support\n",
      "\n",
      "           0       0.73      0.57      0.64        14\n",
      "           1       0.25      0.40      0.31         5\n",
      "\n",
      "    accuracy                           0.53        19\n",
      "   macro avg       0.49      0.49      0.47        19\n",
      "weighted avg       0.60      0.53      0.55        19\n",
      "\n",
      "SVC confusion matrix: \n",
      " [[8 6]\n",
      " [3 2]] \n",
      "\n",
      "\n",
      "\n",
      "scale: 0.01  sigma: 0.1  best score knn: 0.75  best score svc: 0.763  \n",
      "\n",
      "KNN classification report: \n",
      "               precision    recall  f1-score   support\n",
      "\n",
      "           0       0.73      0.79      0.76        14\n",
      "           1       0.25      0.20      0.22         5\n",
      "\n",
      "    accuracy                           0.63        19\n",
      "   macro avg       0.49      0.49      0.49        19\n",
      "weighted avg       0.61      0.63      0.62        19\n",
      "\n",
      "KNN confusion matrix: \n",
      " [[11  3]\n",
      " [ 4  1]] \n",
      "\n",
      "\n",
      "SVC classification report: \n",
      "               precision    recall  f1-score   support\n",
      "\n",
      "           0       0.79      0.79      0.79        14\n",
      "           1       0.40      0.40      0.40         5\n",
      "\n",
      "    accuracy                           0.68        19\n",
      "   macro avg       0.59      0.59      0.59        19\n",
      "weighted avg       0.68      0.68      0.68        19\n",
      "\n",
      "SVC confusion matrix: \n",
      " [[11  3]\n",
      " [ 3  2]] \n",
      "\n",
      "\n",
      "\n",
      "scale: 0.01  sigma: 0.5  best score knn: 0.75  best score svc: 0.749  \n",
      "\n",
      "KNN classification report: \n",
      "               precision    recall  f1-score   support\n",
      "\n",
      "           0       0.73      0.79      0.76        14\n",
      "           1       0.25      0.20      0.22         5\n",
      "\n",
      "    accuracy                           0.63        19\n",
      "   macro avg       0.49      0.49      0.49        19\n",
      "weighted avg       0.61      0.63      0.62        19\n",
      "\n",
      "KNN confusion matrix: \n",
      " [[11  3]\n",
      " [ 4  1]] \n",
      "\n",
      "\n",
      "SVC classification report: \n",
      "               precision    recall  f1-score   support\n",
      "\n",
      "           0       0.60      0.43      0.50        14\n",
      "           1       0.11      0.20      0.14         5\n",
      "\n",
      "    accuracy                           0.37        19\n",
      "   macro avg       0.36      0.31      0.32        19\n",
      "weighted avg       0.47      0.37      0.41        19\n",
      "\n",
      "SVC confusion matrix: \n",
      " [[6 8]\n",
      " [4 1]] \n",
      "\n",
      "\n",
      "\n",
      "scale: 0.01  sigma: 1.0  best score knn: 0.736  best score svc: 0.734  \n",
      "\n",
      "KNN classification report: \n",
      "               precision    recall  f1-score   support\n",
      "\n",
      "           0       0.73      0.79      0.76        14\n",
      "           1       0.25      0.20      0.22         5\n",
      "\n",
      "    accuracy                           0.63        19\n",
      "   macro avg       0.49      0.49      0.49        19\n",
      "weighted avg       0.61      0.63      0.62        19\n",
      "\n",
      "KNN confusion matrix: \n",
      " [[11  3]\n",
      " [ 4  1]] \n",
      "\n",
      "\n",
      "SVC classification report: \n",
      "               precision    recall  f1-score   support\n",
      "\n",
      "           0       0.73      0.57      0.64        14\n",
      "           1       0.25      0.40      0.31         5\n",
      "\n",
      "    accuracy                           0.53        19\n",
      "   macro avg       0.49      0.49      0.47        19\n",
      "weighted avg       0.60      0.53      0.55        19\n",
      "\n",
      "SVC confusion matrix: \n",
      " [[8 6]\n",
      " [3 2]] \n",
      "\n",
      "\n",
      "\n",
      "scale: 0.01  sigma: 10.0  best score knn: 0.75  best score svc: 0.679  \n",
      "\n",
      "KNN classification report: \n",
      "               precision    recall  f1-score   support\n",
      "\n",
      "           0       0.73      0.79      0.76        14\n",
      "           1       0.25      0.20      0.22         5\n",
      "\n",
      "    accuracy                           0.63        19\n",
      "   macro avg       0.49      0.49      0.49        19\n",
      "weighted avg       0.61      0.63      0.62        19\n",
      "\n",
      "KNN confusion matrix: \n",
      " [[11  3]\n",
      " [ 4  1]] \n",
      "\n",
      "\n",
      "SVC classification report: \n",
      "               precision    recall  f1-score   support\n",
      "\n",
      "           0       0.70      0.50      0.58        14\n",
      "           1       0.22      0.40      0.29         5\n",
      "\n",
      "    accuracy                           0.47        19\n",
      "   macro avg       0.46      0.45      0.43        19\n",
      "weighted avg       0.57      0.47      0.51        19\n",
      "\n",
      "SVC confusion matrix: \n",
      " [[7 7]\n",
      " [3 2]] \n",
      "\n",
      "\n",
      "\n",
      "scale: 0.1  sigma: 0.001  best score knn: 0.678  best score svc: 0.777  \n",
      "\n",
      "KNN classification report: \n",
      "               precision    recall  f1-score   support\n",
      "\n",
      "           0       0.73      0.79      0.76        14\n",
      "           1       0.25      0.20      0.22         5\n",
      "\n",
      "    accuracy                           0.63        19\n",
      "   macro avg       0.49      0.49      0.49        19\n",
      "weighted avg       0.61      0.63      0.62        19\n",
      "\n",
      "KNN confusion matrix: \n",
      " [[11  3]\n",
      " [ 4  1]] \n",
      "\n",
      "\n",
      "SVC classification report: \n",
      "               precision    recall  f1-score   support\n",
      "\n",
      "           0       0.76      0.93      0.84        14\n",
      "           1       0.50      0.20      0.29         5\n",
      "\n",
      "    accuracy                           0.74        19\n",
      "   macro avg       0.63      0.56      0.56        19\n",
      "weighted avg       0.70      0.74      0.69        19\n",
      "\n",
      "SVC confusion matrix: \n",
      " [[13  1]\n",
      " [ 4  1]] \n",
      "\n",
      "\n",
      "\n",
      "scale: 0.1  sigma: 0.01  best score knn: 0.696  best score svc: 0.777  \n",
      "\n",
      "KNN classification report: \n",
      "               precision    recall  f1-score   support\n",
      "\n",
      "           0       0.71      0.36      0.48        14\n",
      "           1       0.25      0.60      0.35         5\n",
      "\n",
      "    accuracy                           0.42        19\n",
      "   macro avg       0.48      0.48      0.41        19\n",
      "weighted avg       0.59      0.42      0.44        19\n",
      "\n",
      "KNN confusion matrix: \n",
      " [[5 9]\n",
      " [2 3]] \n",
      "\n",
      "\n",
      "SVC classification report: \n",
      "               precision    recall  f1-score   support\n",
      "\n",
      "           0       0.76      0.93      0.84        14\n",
      "           1       0.50      0.20      0.29         5\n",
      "\n",
      "    accuracy                           0.74        19\n",
      "   macro avg       0.63      0.56      0.56        19\n",
      "weighted avg       0.70      0.74      0.69        19\n",
      "\n",
      "SVC confusion matrix: \n",
      " [[13  1]\n",
      " [ 4  1]] \n",
      "\n",
      "\n",
      "\n",
      "scale: 0.1  sigma: 0.05  best score knn: 0.75  best score svc: 0.777  \n",
      "\n",
      "KNN classification report: \n",
      "               precision    recall  f1-score   support\n",
      "\n",
      "           0       0.71      0.36      0.48        14\n",
      "           1       0.25      0.60      0.35         5\n",
      "\n",
      "    accuracy                           0.42        19\n",
      "   macro avg       0.48      0.48      0.41        19\n",
      "weighted avg       0.59      0.42      0.44        19\n",
      "\n",
      "KNN confusion matrix: \n",
      " [[5 9]\n",
      " [2 3]] \n",
      "\n",
      "\n",
      "SVC classification report: \n",
      "               precision    recall  f1-score   support\n",
      "\n",
      "           0       0.76      0.93      0.84        14\n",
      "           1       0.50      0.20      0.29         5\n",
      "\n",
      "    accuracy                           0.74        19\n",
      "   macro avg       0.63      0.56      0.56        19\n",
      "weighted avg       0.70      0.74      0.69        19\n",
      "\n",
      "SVC confusion matrix: \n",
      " [[13  1]\n",
      " [ 4  1]] \n",
      "\n",
      "\n",
      "\n",
      "scale: 0.1  sigma: 0.1  best score knn: 0.736  best score svc: 0.777  \n",
      "\n",
      "KNN classification report: \n",
      "               precision    recall  f1-score   support\n",
      "\n",
      "           0       0.71      0.36      0.48        14\n",
      "           1       0.25      0.60      0.35         5\n",
      "\n",
      "    accuracy                           0.42        19\n",
      "   macro avg       0.48      0.48      0.41        19\n",
      "weighted avg       0.59      0.42      0.44        19\n",
      "\n",
      "KNN confusion matrix: \n",
      " [[5 9]\n",
      " [2 3]] \n",
      "\n",
      "\n",
      "SVC classification report: \n",
      "               precision    recall  f1-score   support\n",
      "\n",
      "           0       0.76      0.93      0.84        14\n",
      "           1       0.50      0.20      0.29         5\n",
      "\n",
      "    accuracy                           0.74        19\n",
      "   macro avg       0.63      0.56      0.56        19\n",
      "weighted avg       0.70      0.74      0.69        19\n",
      "\n",
      "SVC confusion matrix: \n",
      " [[13  1]\n",
      " [ 4  1]] \n",
      "\n",
      "\n",
      "\n",
      "scale: 0.1  sigma: 0.5  best score knn: 0.763  best score svc: 0.79  \n",
      "\n",
      "KNN classification report: \n",
      "               precision    recall  f1-score   support\n",
      "\n",
      "           0       0.71      0.36      0.48        14\n",
      "           1       0.25      0.60      0.35         5\n",
      "\n",
      "    accuracy                           0.42        19\n",
      "   macro avg       0.48      0.48      0.41        19\n",
      "weighted avg       0.59      0.42      0.44        19\n",
      "\n",
      "KNN confusion matrix: \n",
      " [[5 9]\n",
      " [2 3]] \n",
      "\n",
      "\n",
      "SVC classification report: \n",
      "               precision    recall  f1-score   support\n",
      "\n",
      "           0       0.75      0.64      0.69        14\n",
      "           1       0.29      0.40      0.33         5\n",
      "\n",
      "    accuracy                           0.58        19\n",
      "   macro avg       0.52      0.52      0.51        19\n",
      "weighted avg       0.63      0.58      0.60        19\n",
      "\n",
      "SVC confusion matrix: \n",
      " [[9 5]\n",
      " [3 2]] \n",
      "\n",
      "\n",
      "\n",
      "scale: 0.1  sigma: 1.0  best score knn: 0.749  best score svc: 0.762  \n",
      "\n",
      "KNN classification report: \n",
      "               precision    recall  f1-score   support\n",
      "\n",
      "           0       0.71      0.36      0.48        14\n",
      "           1       0.25      0.60      0.35         5\n",
      "\n",
      "    accuracy                           0.42        19\n",
      "   macro avg       0.48      0.48      0.41        19\n",
      "weighted avg       0.59      0.42      0.44        19\n",
      "\n",
      "KNN confusion matrix: \n",
      " [[5 9]\n",
      " [2 3]] \n",
      "\n",
      "\n",
      "SVC classification report: \n",
      "               precision    recall  f1-score   support\n",
      "\n",
      "           0       0.77      0.71      0.74        14\n",
      "           1       0.33      0.40      0.36         5\n",
      "\n",
      "    accuracy                           0.63        19\n",
      "   macro avg       0.55      0.56      0.55        19\n",
      "weighted avg       0.65      0.63      0.64        19\n",
      "\n",
      "SVC confusion matrix: \n",
      " [[10  4]\n",
      " [ 3  2]] \n",
      "\n",
      "\n",
      "\n",
      "scale: 0.1  sigma: 10.0  best score knn: 0.75  best score svc: 0.763  \n",
      "\n",
      "KNN classification report: \n",
      "               precision    recall  f1-score   support\n",
      "\n",
      "           0       0.73      0.79      0.76        14\n",
      "           1       0.25      0.20      0.22         5\n",
      "\n",
      "    accuracy                           0.63        19\n",
      "   macro avg       0.49      0.49      0.49        19\n",
      "weighted avg       0.61      0.63      0.62        19\n",
      "\n",
      "KNN confusion matrix: \n",
      " [[11  3]\n",
      " [ 4  1]] \n",
      "\n",
      "\n",
      "SVC classification report: \n",
      "               precision    recall  f1-score   support\n",
      "\n",
      "           0       0.79      0.79      0.79        14\n",
      "           1       0.40      0.40      0.40         5\n",
      "\n",
      "    accuracy                           0.68        19\n",
      "   macro avg       0.59      0.59      0.59        19\n",
      "weighted avg       0.68      0.68      0.68        19\n",
      "\n",
      "SVC confusion matrix: \n",
      " [[11  3]\n",
      " [ 3  2]] \n",
      "\n",
      "\n",
      "\n",
      "scale: 1.0  sigma: 0.001  best score knn: 0.737  best score svc: 0.821  \n",
      "\n"
     ]
    },
    {
     "name": "stdout",
     "output_type": "stream",
     "text": [
      "KNN classification report: \n",
      "               precision    recall  f1-score   support\n",
      "\n",
      "           0       0.73      0.79      0.76        14\n",
      "           1       0.25      0.20      0.22         5\n",
      "\n",
      "    accuracy                           0.63        19\n",
      "   macro avg       0.49      0.49      0.49        19\n",
      "weighted avg       0.61      0.63      0.62        19\n",
      "\n",
      "KNN confusion matrix: \n",
      " [[11  3]\n",
      " [ 4  1]] \n",
      "\n",
      "\n",
      "SVC classification report: \n",
      "               precision    recall  f1-score   support\n",
      "\n",
      "           0       0.81      0.93      0.87        14\n",
      "           1       0.67      0.40      0.50         5\n",
      "\n",
      "    accuracy                           0.79        19\n",
      "   macro avg       0.74      0.66      0.68        19\n",
      "weighted avg       0.77      0.79      0.77        19\n",
      "\n",
      "SVC confusion matrix: \n",
      " [[13  1]\n",
      " [ 3  2]] \n",
      "\n",
      "\n",
      "\n",
      "scale: 1.0  sigma: 0.01  best score knn: 0.693  best score svc: 0.805  \n",
      "\n",
      "KNN classification report: \n",
      "               precision    recall  f1-score   support\n",
      "\n",
      "           0       0.73      0.79      0.76        14\n",
      "           1       0.25      0.20      0.22         5\n",
      "\n",
      "    accuracy                           0.63        19\n",
      "   macro avg       0.49      0.49      0.49        19\n",
      "weighted avg       0.61      0.63      0.62        19\n",
      "\n",
      "KNN confusion matrix: \n",
      " [[11  3]\n",
      " [ 4  1]] \n",
      "\n",
      "\n",
      "SVC classification report: \n",
      "               precision    recall  f1-score   support\n",
      "\n",
      "           0       0.74      1.00      0.85        14\n",
      "           1       0.00      0.00      0.00         5\n",
      "\n",
      "    accuracy                           0.74        19\n",
      "   macro avg       0.37      0.50      0.42        19\n",
      "weighted avg       0.54      0.74      0.63        19\n",
      "\n",
      "SVC confusion matrix: \n",
      " [[14  0]\n",
      " [ 5  0]] \n",
      "\n",
      "\n",
      "\n",
      "scale: 1.0  sigma: 0.05  best score knn: 0.692  best score svc: 0.805  \n",
      "\n",
      "KNN classification report: \n",
      "               precision    recall  f1-score   support\n",
      "\n",
      "           0       0.73      0.79      0.76        14\n",
      "           1       0.25      0.20      0.22         5\n",
      "\n",
      "    accuracy                           0.63        19\n",
      "   macro avg       0.49      0.49      0.49        19\n",
      "weighted avg       0.61      0.63      0.62        19\n",
      "\n",
      "KNN confusion matrix: \n",
      " [[11  3]\n",
      " [ 4  1]] \n",
      "\n",
      "\n",
      "SVC classification report: \n",
      "               precision    recall  f1-score   support\n",
      "\n",
      "           0       0.76      0.93      0.84        14\n",
      "           1       0.50      0.20      0.29         5\n",
      "\n",
      "    accuracy                           0.74        19\n",
      "   macro avg       0.63      0.56      0.56        19\n",
      "weighted avg       0.70      0.74      0.69        19\n",
      "\n",
      "SVC confusion matrix: \n",
      " [[13  1]\n",
      " [ 4  1]] \n",
      "\n",
      "\n",
      "\n",
      "scale: 1.0  sigma: 0.1  best score knn: 0.678  best score svc: 0.777  \n",
      "\n",
      "KNN classification report: \n",
      "               precision    recall  f1-score   support\n",
      "\n",
      "           0       0.73      0.79      0.76        14\n",
      "           1       0.25      0.20      0.22         5\n",
      "\n",
      "    accuracy                           0.63        19\n",
      "   macro avg       0.49      0.49      0.49        19\n",
      "weighted avg       0.61      0.63      0.62        19\n",
      "\n",
      "KNN confusion matrix: \n",
      " [[11  3]\n",
      " [ 4  1]] \n",
      "\n",
      "\n",
      "SVC classification report: \n",
      "               precision    recall  f1-score   support\n",
      "\n",
      "           0       0.76      0.93      0.84        14\n",
      "           1       0.50      0.20      0.29         5\n",
      "\n",
      "    accuracy                           0.74        19\n",
      "   macro avg       0.63      0.56      0.56        19\n",
      "weighted avg       0.70      0.74      0.69        19\n",
      "\n",
      "SVC confusion matrix: \n",
      " [[13  1]\n",
      " [ 4  1]] \n",
      "\n",
      "\n",
      "\n",
      "scale: 1.0  sigma: 0.5  best score knn: 0.682  best score svc: 0.763  \n",
      "\n",
      "KNN classification report: \n",
      "               precision    recall  f1-score   support\n",
      "\n",
      "           0       0.71      0.36      0.48        14\n",
      "           1       0.25      0.60      0.35         5\n",
      "\n",
      "    accuracy                           0.42        19\n",
      "   macro avg       0.48      0.48      0.41        19\n",
      "weighted avg       0.59      0.42      0.44        19\n",
      "\n",
      "KNN confusion matrix: \n",
      " [[5 9]\n",
      " [2 3]] \n",
      "\n",
      "\n",
      "SVC classification report: \n",
      "               precision    recall  f1-score   support\n",
      "\n",
      "           0       0.76      0.93      0.84        14\n",
      "           1       0.50      0.20      0.29         5\n",
      "\n",
      "    accuracy                           0.74        19\n",
      "   macro avg       0.63      0.56      0.56        19\n",
      "weighted avg       0.70      0.74      0.69        19\n",
      "\n",
      "SVC confusion matrix: \n",
      " [[13  1]\n",
      " [ 4  1]] \n",
      "\n",
      "\n",
      "\n",
      "scale: 1.0  sigma: 1.0  best score knn: 0.696  best score svc: 0.777  \n",
      "\n",
      "KNN classification report: \n",
      "               precision    recall  f1-score   support\n",
      "\n",
      "           0       0.71      0.36      0.48        14\n",
      "           1       0.25      0.60      0.35         5\n",
      "\n",
      "    accuracy                           0.42        19\n",
      "   macro avg       0.48      0.48      0.41        19\n",
      "weighted avg       0.59      0.42      0.44        19\n",
      "\n",
      "KNN confusion matrix: \n",
      " [[5 9]\n",
      " [2 3]] \n",
      "\n",
      "\n",
      "SVC classification report: \n",
      "               precision    recall  f1-score   support\n",
      "\n",
      "           0       0.76      0.93      0.84        14\n",
      "           1       0.50      0.20      0.29         5\n",
      "\n",
      "    accuracy                           0.74        19\n",
      "   macro avg       0.63      0.56      0.56        19\n",
      "weighted avg       0.70      0.74      0.69        19\n",
      "\n",
      "SVC confusion matrix: \n",
      " [[13  1]\n",
      " [ 4  1]] \n",
      "\n",
      "\n",
      "\n",
      "scale: 1.0  sigma: 10.0  best score knn: 0.736  best score svc: 0.777  \n",
      "\n",
      "KNN classification report: \n",
      "               precision    recall  f1-score   support\n",
      "\n",
      "           0       0.71      0.36      0.48        14\n",
      "           1       0.25      0.60      0.35         5\n",
      "\n",
      "    accuracy                           0.42        19\n",
      "   macro avg       0.48      0.48      0.41        19\n",
      "weighted avg       0.59      0.42      0.44        19\n",
      "\n",
      "KNN confusion matrix: \n",
      " [[5 9]\n",
      " [2 3]] \n",
      "\n",
      "\n",
      "SVC classification report: \n",
      "               precision    recall  f1-score   support\n",
      "\n",
      "           0       0.76      0.93      0.84        14\n",
      "           1       0.50      0.20      0.29         5\n",
      "\n",
      "    accuracy                           0.74        19\n",
      "   macro avg       0.63      0.56      0.56        19\n",
      "weighted avg       0.70      0.74      0.69        19\n",
      "\n",
      "SVC confusion matrix: \n",
      " [[13  1]\n",
      " [ 4  1]] \n",
      "\n",
      "\n",
      "\n",
      "scale: 10.0  sigma: 0.001  best score knn: 0.695  best score svc: 0.766  \n",
      "\n",
      "KNN classification report: \n",
      "               precision    recall  f1-score   support\n",
      "\n",
      "           0       0.73      0.79      0.76        14\n",
      "           1       0.25      0.20      0.22         5\n",
      "\n",
      "    accuracy                           0.63        19\n",
      "   macro avg       0.49      0.49      0.49        19\n",
      "weighted avg       0.61      0.63      0.62        19\n",
      "\n",
      "KNN confusion matrix: \n",
      " [[11  3]\n",
      " [ 4  1]] \n",
      "\n",
      "\n",
      "SVC classification report: \n",
      "               precision    recall  f1-score   support\n",
      "\n",
      "           0       0.81      0.93      0.87        14\n",
      "           1       0.67      0.40      0.50         5\n",
      "\n",
      "    accuracy                           0.79        19\n",
      "   macro avg       0.74      0.66      0.68        19\n",
      "weighted avg       0.77      0.79      0.77        19\n",
      "\n",
      "SVC confusion matrix: \n",
      " [[13  1]\n",
      " [ 3  2]] \n",
      "\n",
      "\n",
      "\n",
      "scale: 10.0  sigma: 0.01  best score knn: 0.71  best score svc: 0.793  \n",
      "\n",
      "KNN classification report: \n",
      "               precision    recall  f1-score   support\n",
      "\n",
      "           0       0.73      0.79      0.76        14\n",
      "           1       0.25      0.20      0.22         5\n",
      "\n",
      "    accuracy                           0.63        19\n",
      "   macro avg       0.49      0.49      0.49        19\n",
      "weighted avg       0.61      0.63      0.62        19\n",
      "\n",
      "KNN confusion matrix: \n",
      " [[11  3]\n",
      " [ 4  1]] \n",
      "\n",
      "\n",
      "SVC classification report: \n",
      "               precision    recall  f1-score   support\n",
      "\n",
      "           0       0.81      0.93      0.87        14\n",
      "           1       0.67      0.40      0.50         5\n",
      "\n",
      "    accuracy                           0.79        19\n",
      "   macro avg       0.74      0.66      0.68        19\n",
      "weighted avg       0.77      0.79      0.77        19\n",
      "\n",
      "SVC confusion matrix: \n",
      " [[13  1]\n",
      " [ 3  2]] \n",
      "\n",
      "\n",
      "\n",
      "scale: 10.0  sigma: 0.05  best score knn: 0.724  best score svc: 0.792  \n",
      "\n",
      "KNN classification report: \n",
      "               precision    recall  f1-score   support\n",
      "\n",
      "           0       0.73      0.79      0.76        14\n",
      "           1       0.25      0.20      0.22         5\n",
      "\n",
      "    accuracy                           0.63        19\n",
      "   macro avg       0.49      0.49      0.49        19\n",
      "weighted avg       0.61      0.63      0.62        19\n",
      "\n",
      "KNN confusion matrix: \n",
      " [[11  3]\n",
      " [ 4  1]] \n",
      "\n",
      "\n",
      "SVC classification report: \n",
      "               precision    recall  f1-score   support\n",
      "\n",
      "           0       0.81      0.93      0.87        14\n",
      "           1       0.67      0.40      0.50         5\n",
      "\n",
      "    accuracy                           0.79        19\n",
      "   macro avg       0.74      0.66      0.68        19\n",
      "weighted avg       0.77      0.79      0.77        19\n",
      "\n",
      "SVC confusion matrix: \n",
      " [[13  1]\n",
      " [ 3  2]] \n",
      "\n",
      "\n",
      "\n",
      "scale: 10.0  sigma: 0.1  best score knn: 0.737  best score svc: 0.821  \n",
      "\n",
      "KNN classification report: \n",
      "               precision    recall  f1-score   support\n",
      "\n",
      "           0       0.73      0.79      0.76        14\n",
      "           1       0.25      0.20      0.22         5\n",
      "\n",
      "    accuracy                           0.63        19\n",
      "   macro avg       0.49      0.49      0.49        19\n",
      "weighted avg       0.61      0.63      0.62        19\n",
      "\n",
      "KNN confusion matrix: \n",
      " [[11  3]\n",
      " [ 4  1]] \n",
      "\n",
      "\n",
      "SVC classification report: \n",
      "               precision    recall  f1-score   support\n",
      "\n",
      "           0       0.81      0.93      0.87        14\n",
      "           1       0.67      0.40      0.50         5\n",
      "\n",
      "    accuracy                           0.79        19\n",
      "   macro avg       0.74      0.66      0.68        19\n",
      "weighted avg       0.77      0.79      0.77        19\n",
      "\n",
      "SVC confusion matrix: \n",
      " [[13  1]\n",
      " [ 3  2]] \n",
      "\n",
      "\n",
      "\n",
      "scale: 10.0  sigma: 0.5  best score knn: 0.723  best score svc: 0.807  \n",
      "\n",
      "KNN classification report: \n",
      "               precision    recall  f1-score   support\n",
      "\n",
      "           0       0.73      0.79      0.76        14\n",
      "           1       0.25      0.20      0.22         5\n",
      "\n",
      "    accuracy                           0.63        19\n",
      "   macro avg       0.49      0.49      0.49        19\n",
      "weighted avg       0.61      0.63      0.62        19\n",
      "\n",
      "KNN confusion matrix: \n",
      " [[11  3]\n",
      " [ 4  1]] \n",
      "\n",
      "\n",
      "SVC classification report: \n",
      "               precision    recall  f1-score   support\n",
      "\n",
      "           0       0.76      0.93      0.84        14\n",
      "           1       0.50      0.20      0.29         5\n",
      "\n",
      "    accuracy                           0.74        19\n",
      "   macro avg       0.63      0.56      0.56        19\n",
      "weighted avg       0.70      0.74      0.69        19\n",
      "\n",
      "SVC confusion matrix: \n",
      " [[13  1]\n",
      " [ 4  1]] \n",
      "\n",
      "\n",
      "\n",
      "scale: 10.0  sigma: 1.0  best score knn: 0.693  best score svc: 0.805  \n",
      "\n",
      "KNN classification report: \n",
      "               precision    recall  f1-score   support\n",
      "\n",
      "           0       0.73      0.79      0.76        14\n",
      "           1       0.25      0.20      0.22         5\n",
      "\n",
      "    accuracy                           0.63        19\n",
      "   macro avg       0.49      0.49      0.49        19\n",
      "weighted avg       0.61      0.63      0.62        19\n",
      "\n",
      "KNN confusion matrix: \n",
      " [[11  3]\n",
      " [ 4  1]] \n",
      "\n",
      "\n",
      "SVC classification report: \n",
      "               precision    recall  f1-score   support\n",
      "\n",
      "           0       0.74      1.00      0.85        14\n",
      "           1       0.00      0.00      0.00         5\n",
      "\n",
      "    accuracy                           0.74        19\n",
      "   macro avg       0.37      0.50      0.42        19\n",
      "weighted avg       0.54      0.74      0.63        19\n",
      "\n",
      "SVC confusion matrix: \n",
      " [[14  0]\n",
      " [ 5  0]] \n",
      "\n",
      "\n",
      "\n",
      "scale: 10.0  sigma: 10.0  best score knn: 0.678  best score svc: 0.777  \n",
      "\n",
      "KNN classification report: \n",
      "               precision    recall  f1-score   support\n",
      "\n",
      "           0       0.73      0.79      0.76        14\n",
      "           1       0.25      0.20      0.22         5\n",
      "\n",
      "    accuracy                           0.63        19\n",
      "   macro avg       0.49      0.49      0.49        19\n",
      "weighted avg       0.61      0.63      0.62        19\n",
      "\n",
      "KNN confusion matrix: \n",
      " [[11  3]\n",
      " [ 4  1]] \n",
      "\n",
      "\n",
      "SVC classification report: \n",
      "               precision    recall  f1-score   support\n",
      "\n",
      "           0       0.76      0.93      0.84        14\n",
      "           1       0.50      0.20      0.29         5\n",
      "\n",
      "    accuracy                           0.74        19\n",
      "   macro avg       0.63      0.56      0.56        19\n",
      "weighted avg       0.70      0.74      0.69        19\n",
      "\n",
      "SVC confusion matrix: \n",
      " [[13  1]\n",
      " [ 4  1]] \n",
      "\n",
      "\n",
      "\n",
      "scale: 100.0  sigma: 0.001  best score knn: 0.681  best score svc: 0.749  \n",
      "\n",
      "KNN classification report: \n",
      "               precision    recall  f1-score   support\n",
      "\n",
      "           0       0.73      0.79      0.76        14\n",
      "           1       0.25      0.20      0.22         5\n",
      "\n",
      "    accuracy                           0.63        19\n",
      "   macro avg       0.49      0.49      0.49        19\n",
      "weighted avg       0.61      0.63      0.62        19\n",
      "\n",
      "KNN confusion matrix: \n",
      " [[11  3]\n",
      " [ 4  1]] \n",
      "\n",
      "\n",
      "SVC classification report: \n",
      "               precision    recall  f1-score   support\n",
      "\n",
      "           0       0.74      1.00      0.85        14\n",
      "           1       0.00      0.00      0.00         5\n",
      "\n",
      "    accuracy                           0.74        19\n",
      "   macro avg       0.37      0.50      0.42        19\n",
      "weighted avg       0.54      0.74      0.63        19\n",
      "\n",
      "SVC confusion matrix: \n",
      " [[14  0]\n",
      " [ 5  0]] \n",
      "\n",
      "\n",
      "\n",
      "scale: 100.0  sigma: 0.01  best score knn: 0.695  best score svc: 0.75  \n",
      "\n",
      "KNN classification report: \n",
      "               precision    recall  f1-score   support\n",
      "\n",
      "           0       0.73      0.79      0.76        14\n",
      "           1       0.25      0.20      0.22         5\n",
      "\n",
      "    accuracy                           0.63        19\n",
      "   macro avg       0.49      0.49      0.49        19\n",
      "weighted avg       0.61      0.63      0.62        19\n",
      "\n",
      "KNN confusion matrix: \n",
      " [[11  3]\n",
      " [ 4  1]] \n",
      "\n",
      "\n",
      "SVC classification report: \n",
      "               precision    recall  f1-score   support\n",
      "\n",
      "           0       0.80      0.86      0.83        14\n",
      "           1       0.50      0.40      0.44         5\n",
      "\n",
      "    accuracy                           0.74        19\n",
      "   macro avg       0.65      0.63      0.64        19\n",
      "weighted avg       0.72      0.74      0.73        19\n",
      "\n",
      "SVC confusion matrix: \n",
      " [[12  2]\n",
      " [ 3  2]] \n",
      "\n",
      "\n",
      "\n",
      "scale: 100.0  sigma: 0.05  best score knn: 0.695  best score svc: 0.766  \n",
      "\n",
      "KNN classification report: \n",
      "               precision    recall  f1-score   support\n",
      "\n",
      "           0       0.73      0.79      0.76        14\n",
      "           1       0.25      0.20      0.22         5\n",
      "\n",
      "    accuracy                           0.63        19\n",
      "   macro avg       0.49      0.49      0.49        19\n",
      "weighted avg       0.61      0.63      0.62        19\n",
      "\n",
      "KNN confusion matrix: \n",
      " [[11  3]\n",
      " [ 4  1]] \n",
      "\n",
      "\n",
      "SVC classification report: \n",
      "               precision    recall  f1-score   support\n",
      "\n",
      "           0       0.81      0.93      0.87        14\n",
      "           1       0.67      0.40      0.50         5\n",
      "\n",
      "    accuracy                           0.79        19\n",
      "   macro avg       0.74      0.66      0.68        19\n",
      "weighted avg       0.77      0.79      0.77        19\n",
      "\n",
      "SVC confusion matrix: \n",
      " [[13  1]\n",
      " [ 3  2]] \n",
      "\n",
      "\n",
      "\n",
      "scale: 100.0  sigma: 0.1  best score knn: 0.681  best score svc: 0.766  \n",
      "\n",
      "KNN classification report: \n",
      "               precision    recall  f1-score   support\n",
      "\n",
      "           0       0.73      0.79      0.76        14\n",
      "           1       0.25      0.20      0.22         5\n",
      "\n",
      "    accuracy                           0.63        19\n",
      "   macro avg       0.49      0.49      0.49        19\n",
      "weighted avg       0.61      0.63      0.62        19\n",
      "\n",
      "KNN confusion matrix: \n",
      " [[11  3]\n",
      " [ 4  1]] \n",
      "\n",
      "\n",
      "SVC classification report: \n",
      "               precision    recall  f1-score   support\n",
      "\n",
      "           0       0.81      0.93      0.87        14\n",
      "           1       0.67      0.40      0.50         5\n",
      "\n",
      "    accuracy                           0.79        19\n",
      "   macro avg       0.74      0.66      0.68        19\n",
      "weighted avg       0.77      0.79      0.77        19\n",
      "\n",
      "SVC confusion matrix: \n",
      " [[13  1]\n",
      " [ 3  2]] \n",
      "\n",
      "\n",
      "\n",
      "scale: 100.0  sigma: 0.5  best score knn: 0.71  best score svc: 0.793  \n",
      "\n",
      "KNN classification report: \n",
      "               precision    recall  f1-score   support\n",
      "\n",
      "           0       0.73      0.79      0.76        14\n",
      "           1       0.25      0.20      0.22         5\n",
      "\n",
      "    accuracy                           0.63        19\n",
      "   macro avg       0.49      0.49      0.49        19\n",
      "weighted avg       0.61      0.63      0.62        19\n",
      "\n",
      "KNN confusion matrix: \n",
      " [[11  3]\n",
      " [ 4  1]] \n",
      "\n",
      "\n",
      "SVC classification report: \n",
      "               precision    recall  f1-score   support\n",
      "\n",
      "           0       0.87      0.93      0.90        14\n",
      "           1       0.75      0.60      0.67         5\n",
      "\n",
      "    accuracy                           0.84        19\n",
      "   macro avg       0.81      0.76      0.78        19\n",
      "weighted avg       0.84      0.84      0.84        19\n",
      "\n",
      "SVC confusion matrix: \n",
      " [[13  1]\n",
      " [ 2  3]] \n",
      "\n",
      "\n",
      "\n",
      "scale: 100.0  sigma: 1.0  best score knn: 0.71  best score svc: 0.793  \n",
      "\n",
      "KNN classification report: \n",
      "               precision    recall  f1-score   support\n",
      "\n",
      "           0       0.73      0.79      0.76        14\n",
      "           1       0.25      0.20      0.22         5\n",
      "\n",
      "    accuracy                           0.63        19\n",
      "   macro avg       0.49      0.49      0.49        19\n",
      "weighted avg       0.61      0.63      0.62        19\n",
      "\n",
      "KNN confusion matrix: \n",
      " [[11  3]\n",
      " [ 4  1]] \n",
      "\n",
      "\n",
      "SVC classification report: \n",
      "               precision    recall  f1-score   support\n",
      "\n",
      "           0       0.81      0.93      0.87        14\n",
      "           1       0.67      0.40      0.50         5\n",
      "\n",
      "    accuracy                           0.79        19\n",
      "   macro avg       0.74      0.66      0.68        19\n",
      "weighted avg       0.77      0.79      0.77        19\n",
      "\n",
      "SVC confusion matrix: \n",
      " [[13  1]\n",
      " [ 3  2]] \n",
      "\n",
      "\n",
      "\n",
      "scale: 100.0  sigma: 10.0  best score knn: 0.737  best score svc: 0.821  \n",
      "\n",
      "KNN classification report: \n",
      "               precision    recall  f1-score   support\n",
      "\n",
      "           0       0.73      0.79      0.76        14\n",
      "           1       0.25      0.20      0.22         5\n",
      "\n",
      "    accuracy                           0.63        19\n",
      "   macro avg       0.49      0.49      0.49        19\n",
      "weighted avg       0.61      0.63      0.62        19\n",
      "\n",
      "KNN confusion matrix: \n",
      " [[11  3]\n",
      " [ 4  1]] \n",
      "\n",
      "\n",
      "SVC classification report: \n",
      "               precision    recall  f1-score   support\n",
      "\n",
      "           0       0.81      0.93      0.87        14\n",
      "           1       0.67      0.40      0.50         5\n",
      "\n",
      "    accuracy                           0.79        19\n",
      "   macro avg       0.74      0.66      0.68        19\n",
      "weighted avg       0.77      0.79      0.77        19\n",
      "\n",
      "SVC confusion matrix: \n",
      " [[13  1]\n",
      " [ 3  2]] \n",
      "\n",
      "\n",
      "\n"
     ]
    }
   ],
   "source": [
    "for scale in scales:\n",
    "    for sigma in sigmas:\n",
    "            \n",
    "        m_knn = models_dict[('knn',scale,sigma)]\n",
    "        m_svc = models_dict[('svc',scale,sigma)]\n",
    "\n",
    "        print(f'scale: {scale} ', f'sigma: {sigma} ', \n",
    "              f'best score knn: {np.round(m_knn.best_score_,3)} ', \n",
    "              f'best score svc: {np.round(m_svc.best_score_,3)} ', '\\n')\n",
    "\n",
    "        y_pred_knn = m_knn.predict(x_test)\n",
    "        y_pred_svc = m_svc.predict(ind_test)\n",
    "\n",
    "        print('KNN classification report: \\n', classification_report(y_test, y_pred_knn))\n",
    "        print('KNN confusion matrix: \\n', confusion_matrix(y_test, y_pred_knn), '\\n\\n')\n",
    "        \n",
    "        print('SVC classification report: \\n', classification_report(y_test, y_pred_svc))\n",
    "        print('SVC confusion matrix: \\n', confusion_matrix(y_test, y_pred_svc), '\\n\\n\\n')"
   ]
  },
  {
   "cell_type": "code",
   "execution_count": 619,
   "metadata": {
    "scrolled": false
   },
   "outputs": [],
   "source": [
    "# # save knn results\n",
    "# report = classification_report(y_test, y_pred_knn, output_dict=True)\n",
    "# df = pd.DataFrame(report).transpose()\n",
    "# df.to_csv(f'../results/TracerX/report__nb_gense_{nb_genes}__sigma_{np.round(sigma,3)}__kNN.csv')\n",
    "\n",
    "# # save svc results\n",
    "# report = classification_report(y_test, y_pred_svc, output_dict=True)\n",
    "# df = pd.DataFrame(report).transpose()\n",
    "# df.to_csv(f'../results/TracerX/report__nb_gense_{nb_genes}__sigma_{np.round(sigma,3)}__SVC.csv')"
   ]
  },
  {
   "cell_type": "code",
   "execution_count": null,
   "metadata": {},
   "outputs": [],
   "source": []
  }
 ],
 "metadata": {
  "kernelspec": {
   "display_name": "Python 3",
   "language": "python",
   "name": "python3"
  },
  "language_info": {
   "codemirror_mode": {
    "name": "ipython",
    "version": 3
   },
   "file_extension": ".py",
   "mimetype": "text/x-python",
   "name": "python",
   "nbconvert_exporter": "python",
   "pygments_lexer": "ipython3",
   "version": "3.8.3"
  }
 },
 "nbformat": 4,
 "nbformat_minor": 4
}
